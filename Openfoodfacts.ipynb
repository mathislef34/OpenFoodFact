{
 "cells": [
  {
   "cell_type": "markdown",
   "metadata": {},
   "source": [
    "# Sommaire\n",
    "- Importation et aperçu du fichier CSV\n",
    "    - Importation du CSV\n",
    "    - Visualisation du CSV\n",
    "- Traitement sur les colonnes\n",
    "    - Sélection des colonnes utiles\n",
    "    - Transformation des colonnes sélectionnées\n",
    "- Détection et suppression des valeurs aberrantes\n",
    "    - Variables numériques\n",
    "    - Variables catégoriques \n",
    "- Vérification et exportation du DataFrame\n",
    "    - DataFrame finalisé\n",
    "    - Exportation du DataFrame"
   ]
  },
  {
   "cell_type": "markdown",
   "metadata": {},
   "source": [
    "_ _ _ "
   ]
  },
  {
   "cell_type": "markdown",
   "metadata": {},
   "source": [
    "# Importation et aperçu du fichier CSV\n",
    "\n",
    "## Importation du CSV\n",
    "\n",
    "Importation des modules nécessaires :"
   ]
  },
  {
   "cell_type": "code",
   "execution_count": 58,
   "metadata": {},
   "outputs": [],
   "source": [
    "# Importation des modules nécessaires\n",
    "import pyspark\n",
    "from pyspark.sql import SparkSession\n",
    "from pyspark.sql.functions import col, count\n",
    "from pyspark.sql.types import FloatType"
   ]
  },
  {
   "cell_type": "markdown",
   "metadata": {},
   "source": [
    "Création d'une SparkSession sur la machine local avec 3 threads dédiés :"
   ]
  },
  {
   "cell_type": "code",
   "execution_count": 59,
   "metadata": {},
   "outputs": [],
   "source": [
    "# Création d'une SparkSession\n",
    "spark = SparkSession.builder \\\n",
    "    .appName(\"Open Food Facts\") \\\n",
    "    .master(\"local[3]\") \\\n",
    "    .getOrCreate()"
   ]
  },
  {
   "cell_type": "markdown",
   "metadata": {},
   "source": [
    "Récupération du csv OpenFoodFacts :"
   ]
  },
  {
   "cell_type": "code",
   "execution_count": 60,
   "metadata": {},
   "outputs": [],
   "source": [
    "# Récupération du csv OpenFoodFacts\n",
    "df = spark.read.csv(\"./Projet_OpenFoodFacts/en.openfoodfacts.org.products3.csv\", header=True, sep=\"\\t\")"
   ]
  },
  {
   "cell_type": "markdown",
   "metadata": {},
   "source": [
    "## Visualisation du CSV\n",
    "\n",
    "Aperçu de la structure des données ainsi que du noms des colonnes :"
   ]
  },
  {
   "cell_type": "code",
   "execution_count": 61,
   "metadata": {},
   "outputs": [
    {
     "name": "stdout",
     "output_type": "stream",
     "text": [
      "root\n",
      " |-- code: string (nullable = true)\n",
      " |-- url: string (nullable = true)\n",
      " |-- creator: string (nullable = true)\n",
      " |-- created_t: string (nullable = true)\n",
      " |-- created_datetime: string (nullable = true)\n",
      " |-- last_modified_t: string (nullable = true)\n",
      " |-- last_modified_datetime: string (nullable = true)\n",
      " |-- last_modified_by: string (nullable = true)\n",
      " |-- last_updated_t: string (nullable = true)\n",
      " |-- last_updated_datetime: string (nullable = true)\n",
      " |-- product_name: string (nullable = true)\n",
      " |-- abbreviated_product_name: string (nullable = true)\n",
      " |-- generic_name: string (nullable = true)\n",
      " |-- quantity: string (nullable = true)\n",
      " |-- packaging: string (nullable = true)\n",
      " |-- packaging_tags: string (nullable = true)\n",
      " |-- packaging_en: string (nullable = true)\n",
      " |-- packaging_text: string (nullable = true)\n",
      " |-- brands: string (nullable = true)\n",
      " |-- brands_tags: string (nullable = true)\n",
      " |-- categories: string (nullable = true)\n",
      " |-- categories_tags: string (nullable = true)\n",
      " |-- categories_en: string (nullable = true)\n",
      " |-- origins: string (nullable = true)\n",
      " |-- origins_tags: string (nullable = true)\n",
      " |-- origins_en: string (nullable = true)\n",
      " |-- manufacturing_places: string (nullable = true)\n",
      " |-- manufacturing_places_tags: string (nullable = true)\n",
      " |-- labels: string (nullable = true)\n",
      " |-- labels_tags: string (nullable = true)\n",
      " |-- labels_en: string (nullable = true)\n",
      " |-- emb_codes: string (nullable = true)\n",
      " |-- emb_codes_tags: string (nullable = true)\n",
      " |-- first_packaging_code_geo: string (nullable = true)\n",
      " |-- cities: string (nullable = true)\n",
      " |-- cities_tags: string (nullable = true)\n",
      " |-- purchase_places: string (nullable = true)\n",
      " |-- stores: string (nullable = true)\n",
      " |-- countries: string (nullable = true)\n",
      " |-- countries_tags: string (nullable = true)\n",
      " |-- countries_en: string (nullable = true)\n",
      " |-- ingredients_text: string (nullable = true)\n",
      " |-- ingredients_tags: string (nullable = true)\n",
      " |-- ingredients_analysis_tags: string (nullable = true)\n",
      " |-- allergens: string (nullable = true)\n",
      " |-- allergens_en: string (nullable = true)\n",
      " |-- traces: string (nullable = true)\n",
      " |-- traces_tags: string (nullable = true)\n",
      " |-- traces_en: string (nullable = true)\n",
      " |-- serving_size: string (nullable = true)\n",
      " |-- serving_quantity: string (nullable = true)\n",
      " |-- no_nutrition_data: string (nullable = true)\n",
      " |-- additives_n: string (nullable = true)\n",
      " |-- additives: string (nullable = true)\n",
      " |-- additives_tags: string (nullable = true)\n",
      " |-- additives_en: string (nullable = true)\n",
      " |-- nutriscore_score: string (nullable = true)\n",
      " |-- nutriscore_grade: string (nullable = true)\n",
      " |-- nova_group: string (nullable = true)\n",
      " |-- pnns_groups_1: string (nullable = true)\n",
      " |-- pnns_groups_2: string (nullable = true)\n",
      " |-- food_groups: string (nullable = true)\n",
      " |-- food_groups_tags: string (nullable = true)\n",
      " |-- food_groups_en: string (nullable = true)\n",
      " |-- states: string (nullable = true)\n",
      " |-- states_tags: string (nullable = true)\n",
      " |-- states_en: string (nullable = true)\n",
      " |-- brand_owner: string (nullable = true)\n",
      " |-- ecoscore_score: string (nullable = true)\n",
      " |-- ecoscore_grade: string (nullable = true)\n",
      " |-- nutrient_levels_tags: string (nullable = true)\n",
      " |-- product_quantity: string (nullable = true)\n",
      " |-- owner: string (nullable = true)\n",
      " |-- data_quality_errors_tags: string (nullable = true)\n",
      " |-- unique_scans_n: string (nullable = true)\n",
      " |-- popularity_tags: string (nullable = true)\n",
      " |-- completeness: string (nullable = true)\n",
      " |-- last_image_t: string (nullable = true)\n",
      " |-- last_image_datetime: string (nullable = true)\n",
      " |-- main_category: string (nullable = true)\n",
      " |-- main_category_en: string (nullable = true)\n",
      " |-- image_url: string (nullable = true)\n",
      " |-- image_small_url: string (nullable = true)\n",
      " |-- image_ingredients_url: string (nullable = true)\n",
      " |-- image_ingredients_small_url: string (nullable = true)\n",
      " |-- image_nutrition_url: string (nullable = true)\n",
      " |-- image_nutrition_small_url: string (nullable = true)\n",
      " |-- energy-kj_100g: string (nullable = true)\n",
      " |-- energy-kcal_100g: string (nullable = true)\n",
      " |-- energy_100g: string (nullable = true)\n",
      " |-- energy-from-fat_100g: string (nullable = true)\n",
      " |-- fat_100g: string (nullable = true)\n",
      " |-- saturated-fat_100g: string (nullable = true)\n",
      " |-- butyric-acid_100g: string (nullable = true)\n",
      " |-- caproic-acid_100g: string (nullable = true)\n",
      " |-- caprylic-acid_100g: string (nullable = true)\n",
      " |-- capric-acid_100g: string (nullable = true)\n",
      " |-- lauric-acid_100g: string (nullable = true)\n",
      " |-- myristic-acid_100g: string (nullable = true)\n",
      " |-- palmitic-acid_100g: string (nullable = true)\n",
      " |-- stearic-acid_100g: string (nullable = true)\n",
      " |-- arachidic-acid_100g: string (nullable = true)\n",
      " |-- behenic-acid_100g: string (nullable = true)\n",
      " |-- lignoceric-acid_100g: string (nullable = true)\n",
      " |-- cerotic-acid_100g: string (nullable = true)\n",
      " |-- montanic-acid_100g: string (nullable = true)\n",
      " |-- melissic-acid_100g: string (nullable = true)\n",
      " |-- unsaturated-fat_100g: string (nullable = true)\n",
      " |-- monounsaturated-fat_100g: string (nullable = true)\n",
      " |-- omega-9-fat_100g: string (nullable = true)\n",
      " |-- polyunsaturated-fat_100g: string (nullable = true)\n",
      " |-- omega-3-fat_100g: string (nullable = true)\n",
      " |-- omega-6-fat_100g: string (nullable = true)\n",
      " |-- alpha-linolenic-acid_100g: string (nullable = true)\n",
      " |-- eicosapentaenoic-acid_100g: string (nullable = true)\n",
      " |-- docosahexaenoic-acid_100g: string (nullable = true)\n",
      " |-- linoleic-acid_100g: string (nullable = true)\n",
      " |-- arachidonic-acid_100g: string (nullable = true)\n",
      " |-- gamma-linolenic-acid_100g: string (nullable = true)\n",
      " |-- dihomo-gamma-linolenic-acid_100g: string (nullable = true)\n",
      " |-- oleic-acid_100g: string (nullable = true)\n",
      " |-- elaidic-acid_100g: string (nullable = true)\n",
      " |-- gondoic-acid_100g: string (nullable = true)\n",
      " |-- mead-acid_100g: string (nullable = true)\n",
      " |-- erucic-acid_100g: string (nullable = true)\n",
      " |-- nervonic-acid_100g: string (nullable = true)\n",
      " |-- trans-fat_100g: string (nullable = true)\n",
      " |-- cholesterol_100g: string (nullable = true)\n",
      " |-- carbohydrates_100g: string (nullable = true)\n",
      " |-- sugars_100g: string (nullable = true)\n",
      " |-- added-sugars_100g: string (nullable = true)\n",
      " |-- sucrose_100g: string (nullable = true)\n",
      " |-- glucose_100g: string (nullable = true)\n",
      " |-- fructose_100g: string (nullable = true)\n",
      " |-- lactose_100g: string (nullable = true)\n",
      " |-- maltose_100g: string (nullable = true)\n",
      " |-- maltodextrins_100g: string (nullable = true)\n",
      " |-- starch_100g: string (nullable = true)\n",
      " |-- polyols_100g: string (nullable = true)\n",
      " |-- erythritol_100g: string (nullable = true)\n",
      " |-- fiber_100g: string (nullable = true)\n",
      " |-- soluble-fiber_100g: string (nullable = true)\n",
      " |-- insoluble-fiber_100g: string (nullable = true)\n",
      " |-- proteins_100g: string (nullable = true)\n",
      " |-- casein_100g: string (nullable = true)\n",
      " |-- serum-proteins_100g: string (nullable = true)\n",
      " |-- nucleotides_100g: string (nullable = true)\n",
      " |-- salt_100g: string (nullable = true)\n",
      " |-- added-salt_100g: string (nullable = true)\n",
      " |-- sodium_100g: string (nullable = true)\n",
      " |-- alcohol_100g: string (nullable = true)\n",
      " |-- vitamin-a_100g: string (nullable = true)\n",
      " |-- beta-carotene_100g: string (nullable = true)\n",
      " |-- vitamin-d_100g: string (nullable = true)\n",
      " |-- vitamin-e_100g: string (nullable = true)\n",
      " |-- vitamin-k_100g: string (nullable = true)\n",
      " |-- vitamin-c_100g: string (nullable = true)\n",
      " |-- vitamin-b1_100g: string (nullable = true)\n",
      " |-- vitamin-b2_100g: string (nullable = true)\n",
      " |-- vitamin-pp_100g: string (nullable = true)\n",
      " |-- vitamin-b6_100g: string (nullable = true)\n",
      " |-- vitamin-b9_100g: string (nullable = true)\n",
      " |-- folates_100g: string (nullable = true)\n",
      " |-- vitamin-b12_100g: string (nullable = true)\n",
      " |-- biotin_100g: string (nullable = true)\n",
      " |-- pantothenic-acid_100g: string (nullable = true)\n",
      " |-- silica_100g: string (nullable = true)\n",
      " |-- bicarbonate_100g: string (nullable = true)\n",
      " |-- potassium_100g: string (nullable = true)\n",
      " |-- chloride_100g: string (nullable = true)\n",
      " |-- calcium_100g: string (nullable = true)\n",
      " |-- phosphorus_100g: string (nullable = true)\n",
      " |-- iron_100g: string (nullable = true)\n",
      " |-- magnesium_100g: string (nullable = true)\n",
      " |-- zinc_100g: string (nullable = true)\n",
      " |-- copper_100g: string (nullable = true)\n",
      " |-- manganese_100g: string (nullable = true)\n",
      " |-- fluoride_100g: string (nullable = true)\n",
      " |-- selenium_100g: string (nullable = true)\n",
      " |-- chromium_100g: string (nullable = true)\n",
      " |-- molybdenum_100g: string (nullable = true)\n",
      " |-- iodine_100g: string (nullable = true)\n",
      " |-- caffeine_100g: string (nullable = true)\n",
      " |-- taurine_100g: string (nullable = true)\n",
      " |-- ph_100g: string (nullable = true)\n",
      " |-- fruits-vegetables-nuts_100g: string (nullable = true)\n",
      " |-- fruits-vegetables-nuts-dried_100g: string (nullable = true)\n",
      " |-- fruits-vegetables-nuts-estimate_100g: string (nullable = true)\n",
      " |-- fruits-vegetables-nuts-estimate-from-ingredients_100g: string (nullable = true)\n",
      " |-- collagen-meat-protein-ratio_100g: string (nullable = true)\n",
      " |-- cocoa_100g: string (nullable = true)\n",
      " |-- chlorophyl_100g: string (nullable = true)\n",
      " |-- carbon-footprint_100g: string (nullable = true)\n",
      " |-- carbon-footprint-from-meat-or-fish_100g: string (nullable = true)\n",
      " |-- nutrition-score-fr_100g: string (nullable = true)\n",
      " |-- nutrition-score-uk_100g: string (nullable = true)\n",
      " |-- glycemic-index_100g: string (nullable = true)\n",
      " |-- water-hardness_100g: string (nullable = true)\n",
      " |-- choline_100g: string (nullable = true)\n",
      " |-- phylloquinone_100g: string (nullable = true)\n",
      " |-- beta-glucan_100g: string (nullable = true)\n",
      " |-- inositol_100g: string (nullable = true)\n",
      " |-- carnitine_100g: string (nullable = true)\n",
      " |-- sulphate_100g: string (nullable = true)\n",
      " |-- nitrate_100g: string (nullable = true)\n",
      " |-- acidity_100g: string (nullable = true)\n",
      "\n"
     ]
    }
   ],
   "source": [
    "# Aperçu de la structure des données ainsi que du noms des colonnes\n",
    "df.printSchema()"
   ]
  },
  {
   "cell_type": "markdown",
   "metadata": {},
   "source": [
    "Connaître le nombre de colonnes:"
   ]
  },
  {
   "cell_type": "code",
   "execution_count": 62,
   "metadata": {},
   "outputs": [
    {
     "name": "stdout",
     "output_type": "stream",
     "text": [
      "\n",
      "Nombre de colonnes : 206\n",
      "\n"
     ]
    }
   ],
   "source": [
    "# Obtenir le nombre de colonnes\n",
    "\n",
    "nb_colonnes = len(df.columns)\n",
    "\n",
    "print(f\"\\nNombre de colonnes : {nb_colonnes}\\n\")"
   ]
  },
  {
   "cell_type": "markdown",
   "metadata": {},
   "source": [
    "Nous avons donc 206 colonnes à examiner afin de savoir celles que l'on garde et celles que l'on supprime."
   ]
  },
  {
   "cell_type": "markdown",
   "metadata": {},
   "source": [
    "Connaître le nombre de lignes :"
   ]
  },
  {
   "cell_type": "code",
   "execution_count": 63,
   "metadata": {},
   "outputs": [
    {
     "name": "stdout",
     "output_type": "stream",
     "text": [
      "3083356\n"
     ]
    }
   ],
   "source": [
    "# Nombre de lignes\n",
    "print(df.count())"
   ]
  },
  {
   "cell_type": "markdown",
   "metadata": {},
   "source": [
    "Affichage des 10 premières lignes :"
   ]
  },
  {
   "cell_type": "code",
   "execution_count": 64,
   "metadata": {},
   "outputs": [
    {
     "name": "stdout",
     "output_type": "stream",
     "text": [
      "+--------------------+--------------------+--------------+----------+--------------------+---------------+----------------------+----------------+--------------+---------------------+--------------------+------------------------+------------+--------+---------+--------------+------------+--------------+-------+-----------+--------------------+--------------------+--------------------+-------+------------+----------+--------------------+-------------------------+------------+------------+---------+---------+--------------+------------------------+------+-----------+---------------+------+---------+----------------+-------------+--------------------+--------------------+-------------------------+---------+------------+------+-----------+---------+------------+----------------+-----------------+-----------+---------+--------------+------------+----------------+----------------+----------+--------------------+--------------+-----------------+--------------------+--------------------+--------------------+--------------------+--------------------+-----------+--------------+--------------+--------------------+----------------+-----+------------------------+--------------+--------------------+------------+------------+--------------------+--------------------+--------------------+--------------------+--------------------+---------------------+---------------------------+--------------------+-------------------------+--------------+----------------+-----------+--------------------+--------+------------------+-----------------+-----------------+------------------+----------------+----------------+------------------+------------------+-----------------+-------------------+-----------------+--------------------+-----------------+------------------+------------------+--------------------+------------------------+----------------+------------------------+----------------+----------------+-------------------------+--------------------------+-------------------------+------------------+---------------------+-------------------------+--------------------------------+---------------+-----------------+-----------------+--------------+----------------+------------------+--------------+----------------+------------------+-----------+-----------------+------------+------------+-------------+------------+------------+------------------+-----------+------------+---------------+----------+------------------+--------------------+-------------+-----------+-------------------+----------------+---------+---------------+-----------+------------+--------------+------------------+--------------+--------------+--------------+--------------+---------------+---------------+---------------+---------------+---------------+------------+----------------+-----------+---------------------+-----------+----------------+--------------+-------------+------------+---------------+---------+--------------+---------+-----------+--------------+-------------+-------------+-------------+---------------+-----------+-------------+------------+-------+---------------------------+---------------------------------+------------------------------------+-----------------------------------------------------+--------------------------------+----------+---------------+---------------------+---------------------------------------+-----------------------+-----------------------+-------------------+-------------------+------------+------------------+----------------+-------------+--------------+-------------+------------+------------+\n",
      "|                code|                 url|       creator| created_t|    created_datetime|last_modified_t|last_modified_datetime|last_modified_by|last_updated_t|last_updated_datetime|        product_name|abbreviated_product_name|generic_name|quantity|packaging|packaging_tags|packaging_en|packaging_text| brands|brands_tags|          categories|     categories_tags|       categories_en|origins|origins_tags|origins_en|manufacturing_places|manufacturing_places_tags|      labels| labels_tags|labels_en|emb_codes|emb_codes_tags|first_packaging_code_geo|cities|cities_tags|purchase_places|stores|countries|  countries_tags| countries_en|    ingredients_text|    ingredients_tags|ingredients_analysis_tags|allergens|allergens_en|traces|traces_tags|traces_en|serving_size|serving_quantity|no_nutrition_data|additives_n|additives|additives_tags|additives_en|nutriscore_score|nutriscore_grade|nova_group|       pnns_groups_1| pnns_groups_2|      food_groups|    food_groups_tags|      food_groups_en|              states|         states_tags|           states_en|brand_owner|ecoscore_score|ecoscore_grade|nutrient_levels_tags|product_quantity|owner|data_quality_errors_tags|unique_scans_n|     popularity_tags|completeness|last_image_t| last_image_datetime|       main_category|    main_category_en|           image_url|     image_small_url|image_ingredients_url|image_ingredients_small_url| image_nutrition_url|image_nutrition_small_url|energy-kj_100g|energy-kcal_100g|energy_100g|energy-from-fat_100g|fat_100g|saturated-fat_100g|butyric-acid_100g|caproic-acid_100g|caprylic-acid_100g|capric-acid_100g|lauric-acid_100g|myristic-acid_100g|palmitic-acid_100g|stearic-acid_100g|arachidic-acid_100g|behenic-acid_100g|lignoceric-acid_100g|cerotic-acid_100g|montanic-acid_100g|melissic-acid_100g|unsaturated-fat_100g|monounsaturated-fat_100g|omega-9-fat_100g|polyunsaturated-fat_100g|omega-3-fat_100g|omega-6-fat_100g|alpha-linolenic-acid_100g|eicosapentaenoic-acid_100g|docosahexaenoic-acid_100g|linoleic-acid_100g|arachidonic-acid_100g|gamma-linolenic-acid_100g|dihomo-gamma-linolenic-acid_100g|oleic-acid_100g|elaidic-acid_100g|gondoic-acid_100g|mead-acid_100g|erucic-acid_100g|nervonic-acid_100g|trans-fat_100g|cholesterol_100g|carbohydrates_100g|sugars_100g|added-sugars_100g|sucrose_100g|glucose_100g|fructose_100g|lactose_100g|maltose_100g|maltodextrins_100g|starch_100g|polyols_100g|erythritol_100g|fiber_100g|soluble-fiber_100g|insoluble-fiber_100g|proteins_100g|casein_100g|serum-proteins_100g|nucleotides_100g|salt_100g|added-salt_100g|sodium_100g|alcohol_100g|vitamin-a_100g|beta-carotene_100g|vitamin-d_100g|vitamin-e_100g|vitamin-k_100g|vitamin-c_100g|vitamin-b1_100g|vitamin-b2_100g|vitamin-pp_100g|vitamin-b6_100g|vitamin-b9_100g|folates_100g|vitamin-b12_100g|biotin_100g|pantothenic-acid_100g|silica_100g|bicarbonate_100g|potassium_100g|chloride_100g|calcium_100g|phosphorus_100g|iron_100g|magnesium_100g|zinc_100g|copper_100g|manganese_100g|fluoride_100g|selenium_100g|chromium_100g|molybdenum_100g|iodine_100g|caffeine_100g|taurine_100g|ph_100g|fruits-vegetables-nuts_100g|fruits-vegetables-nuts-dried_100g|fruits-vegetables-nuts-estimate_100g|fruits-vegetables-nuts-estimate-from-ingredients_100g|collagen-meat-protein-ratio_100g|cocoa_100g|chlorophyl_100g|carbon-footprint_100g|carbon-footprint-from-meat-or-fish_100g|nutrition-score-fr_100g|nutrition-score-uk_100g|glycemic-index_100g|water-hardness_100g|choline_100g|phylloquinone_100g|beta-glucan_100g|inositol_100g|carnitine_100g|sulphate_100g|nitrate_100g|acidity_100g|\n",
      "+--------------------+--------------------+--------------+----------+--------------------+---------------+----------------------+----------------+--------------+---------------------+--------------------+------------------------+------------+--------+---------+--------------+------------+--------------+-------+-----------+--------------------+--------------------+--------------------+-------+------------+----------+--------------------+-------------------------+------------+------------+---------+---------+--------------+------------------------+------+-----------+---------------+------+---------+----------------+-------------+--------------------+--------------------+-------------------------+---------+------------+------+-----------+---------+------------+----------------+-----------------+-----------+---------+--------------+------------+----------------+----------------+----------+--------------------+--------------+-----------------+--------------------+--------------------+--------------------+--------------------+--------------------+-----------+--------------+--------------+--------------------+----------------+-----+------------------------+--------------+--------------------+------------+------------+--------------------+--------------------+--------------------+--------------------+--------------------+---------------------+---------------------------+--------------------+-------------------------+--------------+----------------+-----------+--------------------+--------+------------------+-----------------+-----------------+------------------+----------------+----------------+------------------+------------------+-----------------+-------------------+-----------------+--------------------+-----------------+------------------+------------------+--------------------+------------------------+----------------+------------------------+----------------+----------------+-------------------------+--------------------------+-------------------------+------------------+---------------------+-------------------------+--------------------------------+---------------+-----------------+-----------------+--------------+----------------+------------------+--------------+----------------+------------------+-----------+-----------------+------------+------------+-------------+------------+------------+------------------+-----------+------------+---------------+----------+------------------+--------------------+-------------+-----------+-------------------+----------------+---------+---------------+-----------+------------+--------------+------------------+--------------+--------------+--------------+--------------+---------------+---------------+---------------+---------------+---------------+------------+----------------+-----------+---------------------+-----------+----------------+--------------+-------------+------------+---------------+---------+--------------+---------+-----------+--------------+-------------+-------------+-------------+---------------+-----------+-------------+------------+-------+---------------------------+---------------------------------+------------------------------------+-----------------------------------------------------+--------------------------------+----------+---------------+---------------------+---------------------------------------+-----------------------+-----------------------+-------------------+-------------------+------------+------------------+----------------+-------------+--------------+-------------+------------+------------+\n",
      "|   00000000000000225|http://world-en.o...|nutrinet-sante|1623855208|2021-06-16T14:53:28Z|     1692101569|  2023-08-15T12:12:49Z|            digg|    1692101569| 2023-08-15T12:12:49Z|      jeunes pousses|                    NULL|        NULL|    NULL|     NULL|          NULL|        NULL|          NULL|endives|    endives|Aliments et boiss...|en:plant-based-fo...|Plant-based foods...|   NULL|        NULL|      NULL|                NULL|                     NULL|        NULL|        NULL|     NULL|     NULL|          NULL|                    NULL|  NULL|       NULL|           NULL|  NULL|en:france|       en:france|       France|                NULL|                NULL|                     NULL|     NULL|        NULL|  NULL|       NULL|     NULL|        NULL|            NULL|             NULL|       NULL|     NULL|          NULL|        NULL|            NULL|         unknown|      NULL|Fruits and vegeta...|    Vegetables|    en:vegetables|en:fruits-and-veg...|Fruits and vegeta...|en:to-be-complete...|en:to-be-complete...|To be completed,N...|       NULL|            79|             b|                NULL|            NULL| NULL|                    NULL|          NULL|                NULL|         0.3|        NULL|                NULL|en:spinach-young-...|Spinach young leaves|                NULL|                NULL|                 NULL|                       NULL|                NULL|                     NULL|          NULL|            NULL|       NULL|                NULL|    NULL|              NULL|             NULL|             NULL|              NULL|            NULL|            NULL|              NULL|              NULL|             NULL|               NULL|             NULL|                NULL|             NULL|              NULL|              NULL|                NULL|                    NULL|            NULL|                    NULL|            NULL|            NULL|                     NULL|                      NULL|                     NULL|              NULL|                 NULL|                     NULL|                            NULL|           NULL|             NULL|             NULL|          NULL|            NULL|              NULL|          NULL|            NULL|              NULL|       NULL|             NULL|        NULL|        NULL|         NULL|        NULL|        NULL|              NULL|       NULL|        NULL|           NULL|      NULL|              NULL|                NULL|         NULL|       NULL|               NULL|            NULL|     NULL|           NULL|       NULL|        NULL|          NULL|              NULL|          NULL|          NULL|          NULL|          NULL|           NULL|           NULL|           NULL|           NULL|           NULL|        NULL|            NULL|       NULL|                 NULL|       NULL|            NULL|          NULL|         NULL|        NULL|           NULL|     NULL|          NULL|     NULL|       NULL|          NULL|         NULL|         NULL|         NULL|           NULL|       NULL|         NULL|        NULL|   NULL|                       NULL|                             NULL|                                NULL|                                                 NULL|                            NULL|      NULL|           NULL|                 NULL|                                   NULL|                   NULL|                   NULL|               NULL|               NULL|        NULL|              NULL|            NULL|         NULL|          NULL|         NULL|        NULL|        NULL|\n",
      "|00000000000002070...|http://world-en.o...|       kiliweb|1656948610|2022-07-04T15:30:10Z|     1656948613|  2022-07-04T15:30:13Z|         kiliweb|    1705641095| 2024-01-19T05:11:35Z|               Andrè|                    NULL|        NULL|    NULL|     NULL|          NULL|        NULL|          NULL|   NULL|       NULL|                NULL|                NULL|                NULL|   NULL|        NULL|      NULL|                NULL|                     NULL|        NULL|        NULL|     NULL|     NULL|          NULL|                    NULL|  NULL|       NULL|           NULL|  NULL|    en:de|      en:germany|      Germany|                NULL|                NULL|                     NULL|     NULL|        NULL|  NULL|       NULL|     NULL|        NULL|            NULL|             NULL|       NULL|     NULL|          NULL|        NULL|            NULL|            NULL|      NULL|             unknown|       unknown|             NULL|                NULL|                NULL|en:to-be-complete...|en:to-be-complete...|To be completed,N...|       NULL|          NULL|       unknown|                NULL|            NULL| NULL|    en:energy-value-i...|          NULL|                NULL|      0.2625|  1656948613|2022-07-04T15:30:13Z|                NULL|                NULL|                NULL|                NULL|                 NULL|                       NULL|https://images.op...|     https://images.op...|          NULL|             165|        690|                NULL|       2|                 2|             NULL|             NULL|              NULL|            NULL|            NULL|              NULL|              NULL|             NULL|               NULL|             NULL|                NULL|             NULL|              NULL|              NULL|                NULL|                    NULL|            NULL|                    NULL|            NULL|            NULL|                     NULL|                      NULL|                     NULL|              NULL|                 NULL|                     NULL|                            NULL|           NULL|             NULL|             NULL|          NULL|            NULL|              NULL|          NULL|            NULL|                65|       12.6|             NULL|        NULL|        NULL|         NULL|        NULL|        NULL|              NULL|       NULL|        NULL|           NULL|         3|              NULL|                NULL|          1.5|       NULL|               NULL|            NULL|     NULL|           NULL|       NULL|        NULL|          NULL|              NULL|          NULL|          NULL|          NULL|          NULL|           NULL|           NULL|           NULL|           NULL|           NULL|        NULL|            NULL|       NULL|                 NULL|       NULL|            NULL|          NULL|         NULL|        NULL|           NULL|     NULL|          NULL|     NULL|       NULL|          NULL|         NULL|         NULL|         NULL|           NULL|       NULL|         NULL|        NULL|   NULL|                       NULL|                             NULL|                                NULL|                                                 NULL|                            NULL|      NULL|           NULL|                 NULL|                                   NULL|                   NULL|                   NULL|               NULL|               NULL|        NULL|              NULL|            NULL|         NULL|          NULL|         NULL|        NULL|        NULL|\n",
      "|00000000000003429145|http://world-en.o...|       kiliweb|1630483911|2021-09-01T08:11:51Z|     1682646029|  2023-04-28T01:40:29Z|       isabel626|    1682646029| 2023-04-28T01:40:29Z|             L.casei|                    NULL|        NULL|    NULL|     NULL|          NULL|        NULL|          NULL|   NULL|       NULL|                NULL|                NULL|                NULL|  Spain|    en:spain|     Spain|                NULL|                     NULL|en:green-dot|en:green-dot|Green Dot|     NULL|          NULL|                    NULL|  NULL|       NULL|           NULL|  NULL|    Spain|        en:spain|        Spain|Leche semidesnata...|en:semi-skimmed-m...|     en:palm-oil-free,...|     NULL|        NULL|  NULL|       NULL|     NULL|        NULL|            NULL|             NULL|          0|     NULL|          NULL|        NULL|            NULL|            NULL|      NULL|             unknown|       unknown|             NULL|                NULL|                NULL|en:to-be-complete...|en:to-be-complete...|To be completed,N...|       NULL|          NULL|       unknown|                NULL|            NULL| NULL|                    NULL|          NULL|                NULL|      0.4875|  1630483912|2021-09-01T08:11:52Z|                NULL|                NULL|https://images.op...|https://images.op...| https://images.op...|       https://images.op...|https://images.op...|     https://images.op...|          NULL|            NULL|       NULL|                NULL|     1.4|               0.9|             NULL|             NULL|              NULL|            NULL|            NULL|              NULL|              NULL|             NULL|               NULL|             NULL|                NULL|             NULL|              NULL|              NULL|                NULL|                    NULL|            NULL|                    NULL|            NULL|            NULL|                     NULL|                      NULL|                     NULL|              NULL|                 NULL|                     NULL|                            NULL|           NULL|             NULL|             NULL|          NULL|            NULL|              NULL|          NULL|            NULL|               9.8|        9.8|             NULL|        NULL|        NULL|         NULL|        NULL|        NULL|              NULL|       NULL|        NULL|           NULL|      NULL|              NULL|                NULL|          2.7|       NULL|               NULL|            NULL|      0.1|           NULL|       0.04|        NULL|          NULL|              NULL|          NULL|          NULL|          NULL|          NULL|           NULL|           NULL|           NULL|           NULL|           NULL|        NULL|            NULL|       NULL|                 NULL|       NULL|            NULL|          NULL|         NULL|        NULL|           NULL|     NULL|          NULL|     NULL|       NULL|          NULL|         NULL|         NULL|         NULL|           NULL|       NULL|         NULL|        NULL|   NULL|                       NULL|                             NULL|                                NULL|                                                    0|                            NULL|      NULL|           NULL|                 NULL|                                   NULL|                   NULL|                   NULL|               NULL|               NULL|        NULL|              NULL|            NULL|         NULL|          NULL|         NULL|        NULL|        NULL|\n",
      "|00000000000026772226|http://world-en.o...|       kiliweb|1654250311|2022-06-03T09:58:31Z|     1654270474|  2022-06-03T15:34:34Z|      quentinbrd|    1705640374| 2024-01-19T04:59:34Z|                Skyr|                    NULL|        NULL|   480 g|     NULL|          NULL|        NULL|          NULL| Danone|     danone|Produits laitiers...|en:dairies,en:fer...|Dairies,Fermented...|   NULL|        NULL|      NULL|                NULL|                     NULL|        NULL|        NULL|     NULL|     NULL|          NULL|                    NULL|  NULL|       NULL|           NULL|  NULL|   France|       en:france|       France|                NULL|                NULL|                     NULL|     NULL|        NULL|  NULL|       NULL|     NULL|        NULL|            NULL|             NULL|       NULL|     NULL|          NULL|        NULL|              -5|               a|      NULL|Milk and dairy pr...|Dairy desserts|en:dairy-desserts|en:milk-and-dairy...|Milk and dairy pr...|en:to-be-complete...|en:to-be-complete...|To be completed,N...|       NULL|            67|             b|en:fat-in-low-qua...|             480| NULL|                    NULL|          NULL|                NULL|       0.575|  1654250314|2022-06-03T09:58:34Z|    en:cream-cheeses|       Cream cheeses|https://images.op...|https://images.op...|                 NULL|                       NULL|https://images.op...|     https://images.op...|          NULL|              57|        238|                NULL|     0.2|               0.1|             NULL|             NULL|              NULL|            NULL|            NULL|              NULL|              NULL|             NULL|               NULL|             NULL|                NULL|             NULL|              NULL|              NULL|                NULL|                    NULL|            NULL|                    NULL|            NULL|            NULL|                     NULL|                      NULL|                     NULL|              NULL|                 NULL|                     NULL|                            NULL|           NULL|             NULL|             NULL|          NULL|            NULL|              NULL|          NULL|            NULL|               3.9|        3.9|             NULL|        NULL|        NULL|         NULL|        NULL|        NULL|              NULL|       NULL|        NULL|           NULL|      NULL|              NULL|                NULL|           10|       NULL|               NULL|            NULL|     0.09|           NULL|      0.036|        NULL|          NULL|              NULL|          NULL|          NULL|          NULL|          NULL|           NULL|           NULL|           NULL|           NULL|           NULL|        NULL|            NULL|       NULL|                 NULL|       NULL|            NULL|          NULL|         NULL|        NULL|           NULL|     NULL|          NULL|     NULL|       NULL|          NULL|         NULL|         NULL|         NULL|           NULL|       NULL|         NULL|        NULL|   NULL|                       NULL|                             NULL|                                NULL|                                                 NULL|                            NULL|      NULL|           NULL|                 NULL|                                   NULL|                     -5|                   NULL|               NULL|               NULL|        NULL|              NULL|            NULL|         NULL|          NULL|         NULL|        NULL|        NULL|\n",
      "|       0000000000017|http://world-en.o...|       kiliweb|1529059080|2018-06-15T10:38:00Z|     1561463718|  2019-06-25T11:55:18Z|         kiliweb|    1707490056| 2024-02-09T14:47:36Z|    Vitória crackers|                    NULL|        NULL|    NULL|     NULL|          NULL|        NULL|          NULL|   NULL|       NULL|                NULL|                NULL|                NULL|   NULL|        NULL|      NULL|                NULL|                     NULL|        NULL|        NULL|     NULL|     NULL|          NULL|                    NULL|  NULL|       NULL|           NULL|  NULL|   France|       en:france|       France|                NULL|                NULL|                     NULL|     NULL|        NULL|  NULL|       NULL|     NULL|        NULL|            NULL|             NULL|       NULL|     NULL|          NULL|        NULL|            NULL|         unknown|      NULL|             unknown|       unknown|             NULL|                NULL|                NULL|en:to-be-complete...|en:to-be-complete...|To be completed,N...|       NULL|          NULL|       unknown|                NULL|            NULL| NULL|                    NULL|             1|top-75-percent-sc...|       0.275|  1529059087|2018-06-15T10:38:07Z|                NULL|                NULL|https://images.op...|https://images.op...| https://images.op...|       https://images.op...|                NULL|                     NULL|          NULL|             375|       1569|                NULL|       7|              3.08|             NULL|             NULL|              NULL|            NULL|            NULL|              NULL|              NULL|             NULL|               NULL|             NULL|                NULL|             NULL|              NULL|              NULL|                NULL|                    NULL|            NULL|                    NULL|            NULL|            NULL|                     NULL|                      NULL|                     NULL|              NULL|                 NULL|                     NULL|                            NULL|           NULL|             NULL|             NULL|          NULL|            NULL|              NULL|          NULL|            NULL|              70.1|         15|             NULL|        NULL|        NULL|         NULL|        NULL|        NULL|              NULL|       NULL|        NULL|           NULL|      NULL|              NULL|                NULL|          7.8|       NULL|               NULL|            NULL|      1.4|           NULL|       0.56|        NULL|          NULL|              NULL|          NULL|          NULL|          NULL|          NULL|           NULL|           NULL|           NULL|           NULL|           NULL|        NULL|            NULL|       NULL|                 NULL|       NULL|            NULL|          NULL|         NULL|        NULL|           NULL|     NULL|          NULL|     NULL|       NULL|          NULL|         NULL|         NULL|         NULL|           NULL|       NULL|         NULL|        NULL|   NULL|                       NULL|                             NULL|                                NULL|                                                 NULL|                            NULL|      NULL|           NULL|                 NULL|                                   NULL|                   NULL|                   NULL|               NULL|               NULL|        NULL|              NULL|            NULL|         NULL|          NULL|         NULL|        NULL|        NULL|\n",
      "|       0000000000031|http://world-en.o...|      isagoofy|1539464774|2018-10-13T21:06:14Z|     1539464817|  2018-10-13T21:06:57Z|        isagoofy|    1707603439| 2024-02-10T22:17:19Z|               Cacao|                    NULL|        NULL|   130 g|     NULL|          NULL|        NULL|          NULL|   NULL|       NULL|                NULL|                NULL|                NULL|   NULL|        NULL|      NULL|                NULL|                     NULL|        NULL|        NULL|     NULL|     NULL|          NULL|                    NULL|  NULL|       NULL|           NULL|  NULL|   France|       en:france|       France|                NULL|                NULL|                     NULL|     NULL|        NULL|  NULL|       NULL|     NULL|        NULL|            NULL|             NULL|       NULL|     NULL|          NULL|        NULL|            NULL|         unknown|      NULL|             unknown|       unknown|             NULL|                NULL|                NULL|en:to-be-complete...|en:to-be-complete...|To be completed,N...|       NULL|          NULL|       unknown|                NULL|             130| NULL|                    NULL|             2|top-75-percent-sc...|      0.2625|  1539464775|2018-10-13T21:06:15Z|                NULL|                NULL|https://images.op...|https://images.op...|                 NULL|                       NULL|                NULL|                     NULL|          NULL|            NULL|       NULL|                NULL|    NULL|              NULL|             NULL|             NULL|              NULL|            NULL|            NULL|              NULL|              NULL|             NULL|               NULL|             NULL|                NULL|             NULL|              NULL|              NULL|                NULL|                    NULL|            NULL|                    NULL|            NULL|            NULL|                     NULL|                      NULL|                     NULL|              NULL|                 NULL|                     NULL|                            NULL|           NULL|             NULL|             NULL|          NULL|            NULL|              NULL|          NULL|            NULL|              NULL|       NULL|             NULL|        NULL|        NULL|         NULL|        NULL|        NULL|              NULL|       NULL|        NULL|           NULL|      NULL|              NULL|                NULL|         NULL|       NULL|               NULL|            NULL|     NULL|           NULL|       NULL|        NULL|          NULL|              NULL|          NULL|          NULL|          NULL|          NULL|           NULL|           NULL|           NULL|           NULL|           NULL|        NULL|            NULL|       NULL|                 NULL|       NULL|            NULL|          NULL|         NULL|        NULL|           NULL|     NULL|          NULL|     NULL|       NULL|          NULL|         NULL|         NULL|         NULL|           NULL|       NULL|         NULL|        NULL|   NULL|                       NULL|                             NULL|                                NULL|                                                 NULL|                            NULL|      NULL|           NULL|                 NULL|                                   NULL|                   NULL|                   NULL|               NULL|               NULL|        NULL|              NULL|            NULL|         NULL|          NULL|         NULL|        NULL|        NULL|\n",
      "|  000000000003327986|http://world-en.o...|       kiliweb|1574175736|2019-11-19T15:02:16Z|     1624390765|  2021-06-22T19:39:25Z|      sylvariane|    1624390765| 2021-06-22T19:39:25Z|Filetes de pollo ...|                    NULL|        NULL|    NULL|     NULL|          NULL|        NULL|          NULL|   NULL|       NULL|                NULL|                NULL|                NULL|   NULL|        NULL|      NULL|                NULL|                     NULL|        NULL|        NULL|     NULL|     NULL|          NULL|                    NULL|  NULL|       NULL|           NULL|  NULL|  Espagne|        en:spain|        Spain|                NULL|                NULL|                     NULL|     NULL|        NULL|  NULL|       NULL|     NULL|        NULL|            NULL|             NULL|       NULL|     NULL|          NULL|        NULL|            NULL|            NULL|      NULL|             unknown|       unknown|             NULL|                NULL|                NULL|en:to-be-complete...|en:to-be-complete...|To be completed,N...|       NULL|          NULL|       unknown|                NULL|            NULL| NULL|                    NULL|          NULL|                NULL|       0.275|  1574175737|2019-11-19T15:02:17Z|                NULL|                NULL|https://images.op...|https://images.op...|                 NULL|                       NULL|https://images.op...|     https://images.op...|         685.8|           163.9|      685.8|                NULL|     1.9|                 1|             NULL|             NULL|              NULL|            NULL|            NULL|              NULL|              NULL|             NULL|               NULL|             NULL|                NULL|             NULL|              NULL|              NULL|                NULL|                    NULL|            NULL|                    NULL|            NULL|            NULL|                     NULL|                      NULL|                     NULL|              NULL|                 NULL|                     NULL|                            NULL|           NULL|             NULL|             NULL|          NULL|            NULL|              NULL|          NULL|            NULL|              NULL|       NULL|             NULL|        NULL|        NULL|         NULL|        NULL|        NULL|              NULL|       NULL|        NULL|           NULL|      NULL|              NULL|                NULL|         15.3|       NULL|               NULL|            NULL|      1.1|           NULL|       0.44|        NULL|          NULL|              NULL|          NULL|          NULL|          NULL|          NULL|           NULL|           NULL|           NULL|           NULL|           NULL|        NULL|            NULL|       NULL|                 NULL|       NULL|            NULL|          NULL|         NULL|        NULL|           NULL|     NULL|          NULL|     NULL|       NULL|          NULL|         NULL|         NULL|         NULL|           NULL|       NULL|         NULL|        NULL|   NULL|                       NULL|                             NULL|                                NULL|                                                 NULL|                            NULL|      NULL|           NULL|                 NULL|                                   NULL|                   NULL|                   NULL|               NULL|               NULL|        NULL|              NULL|            NULL|         NULL|          NULL|         NULL|        NULL|        NULL|\n",
      "|  000000000004128579|http://world-en.o...|       kiliweb|1649449251|2022-04-08T20:20:51Z|     1649449920|  2022-04-08T20:32:00Z|      roboto-app|    1705638821| 2024-01-19T04:33:41Z|   Burger Meat Pollo|                    NULL|        NULL|    NULL|     NULL|          NULL|        NULL|          NULL|   NULL|       NULL|                NULL|                NULL|                NULL|   NULL|        NULL|      NULL|                NULL|                     NULL|        NULL|        NULL|     NULL|     NULL|          NULL|                    NULL|  NULL|       NULL|           NULL|  NULL|    en:es|        en:spain|        Spain|                NULL|                NULL|                     NULL|     NULL|        NULL|  NULL|       NULL|     NULL|        NULL|            NULL|             NULL|       NULL|     NULL|          NULL|        NULL|            NULL|            NULL|      NULL|             unknown|       unknown|             NULL|                NULL|                NULL|en:to-be-complete...|en:to-be-complete...|To be completed,N...|       NULL|          NULL|       unknown|                NULL|            NULL| NULL|                    NULL|          NULL|                NULL|       0.375|  1649449255|2022-04-08T20:20:55Z|                NULL|                NULL|https://images.op...|https://images.op...|                 NULL|                       NULL|https://images.op...|     https://images.op...|          NULL|             194|        812|                NULL|      11|               3.9|             NULL|             NULL|              NULL|            NULL|            NULL|              NULL|              NULL|             NULL|               NULL|             NULL|                NULL|             NULL|              NULL|              NULL|                NULL|                    NULL|            NULL|                    NULL|            NULL|            NULL|                     NULL|                      NULL|                     NULL|              NULL|                 NULL|                     NULL|                            NULL|           NULL|             NULL|             NULL|          NULL|            NULL|              NULL|          NULL|            NULL|               5.7|       0.05|             NULL|        NULL|        NULL|         NULL|        NULL|        NULL|              NULL|       NULL|        NULL|           NULL|      NULL|              NULL|                NULL|           18|       NULL|               NULL|            NULL|     NULL|           NULL|       NULL|        NULL|          NULL|              NULL|          NULL|          NULL|          NULL|          NULL|           NULL|           NULL|           NULL|           NULL|           NULL|        NULL|            NULL|       NULL|                 NULL|       NULL|            NULL|          NULL|         NULL|        NULL|           NULL|     NULL|          NULL|     NULL|       NULL|          NULL|         NULL|         NULL|         NULL|           NULL|       NULL|         NULL|        NULL|   NULL|                       NULL|                             NULL|                                NULL|                                                 NULL|                            NULL|      NULL|           NULL|                 NULL|                                   NULL|                   NULL|                   NULL|               NULL|               NULL|        NULL|              NULL|            NULL|         NULL|          NULL|         NULL|        NULL|        NULL|\n",
      "|  000000000004622327|http://world-en.o...|       kiliweb|1619501895|2021-04-27T05:38:15Z|     1682719936|  2023-04-28T22:12:16Z|      roboto-app|    1682719936| 2023-04-28T22:12:16Z|Hamburguesas de t...|                    NULL|        NULL|    NULL|     NULL|          NULL|        NULL|          NULL|   NULL|       NULL|                NULL|                NULL|                NULL|   NULL|        NULL|      NULL|                NULL|                     NULL|        NULL|        NULL|     NULL|     NULL|          NULL|                    NULL|  NULL|       NULL|           NULL|  NULL|    en:es|        en:spain|        Spain|                NULL|                NULL|                     NULL|     NULL|        NULL|  NULL|       NULL|     NULL|        NULL|            NULL|             NULL|       NULL|     NULL|          NULL|        NULL|            NULL|            NULL|      NULL|             unknown|       unknown|             NULL|                NULL|                NULL|en:to-be-complete...|en:to-be-complete...|To be completed,N...|       NULL|          NULL|       unknown|                NULL|            NULL| NULL|    en:energy-value-i...|          NULL|                NULL|       0.375|  1619501896|2021-04-27T05:38:16Z|                NULL|                NULL|https://images.op...|https://images.op...|                 NULL|                       NULL|https://images.op...|     https://images.op...|          NULL|           874.9|       3661|                NULL|    15.1|               6.1|             NULL|             NULL|              NULL|            NULL|            NULL|              NULL|              NULL|             NULL|               NULL|             NULL|                NULL|             NULL|              NULL|              NULL|                NULL|                    NULL|            NULL|                    NULL|            NULL|            NULL|                     NULL|                      NULL|                     NULL|              NULL|                 NULL|                     NULL|                            NULL|           NULL|             NULL|             NULL|          NULL|            NULL|              NULL|          NULL|            NULL|               2.6|          1|             NULL|        NULL|        NULL|         NULL|        NULL|        NULL|              NULL|       NULL|        NULL|           NULL|      NULL|              NULL|                NULL|         15.7|       NULL|               NULL|            NULL|      2.1|           NULL|       0.84|        NULL|          NULL|              NULL|          NULL|          NULL|          NULL|          NULL|           NULL|           NULL|           NULL|           NULL|           NULL|        NULL|            NULL|       NULL|                 NULL|       NULL|            NULL|          NULL|         NULL|        NULL|           NULL|     NULL|          NULL|     NULL|       NULL|          NULL|         NULL|         NULL|         NULL|           NULL|       NULL|         NULL|        NULL|   NULL|                       NULL|                             NULL|                                NULL|                                                 NULL|                            NULL|      NULL|           NULL|                 NULL|                                   NULL|                   NULL|                   NULL|               NULL|               NULL|        NULL|              NULL|            NULL|         NULL|          NULL|         NULL|        NULL|        NULL|\n",
      "|     000000000006021|http://world-en.o...|       kiliweb|1673478017|2023-01-11T23:00:17Z|     1673478020|  2023-01-11T23:00:20Z|         kiliweb|    1705645897| 2024-01-19T06:31:37Z|Blueberry Cobbler...|                    NULL|        NULL|    NULL|     NULL|          NULL|        NULL|          NULL|   NULL|       NULL|                NULL|                NULL|                NULL|   NULL|        NULL|      NULL|                NULL|                     NULL|        NULL|        NULL|     NULL|     NULL|          NULL|                    NULL|  NULL|       NULL|           NULL|  NULL|    en:us|en:united-states|United States|                NULL|                NULL|                     NULL|     NULL|        NULL|  NULL|       NULL|     NULL|        NULL|            NULL|             NULL|       NULL|     NULL|          NULL|        NULL|            NULL|            NULL|      NULL|             unknown|       unknown|             NULL|                NULL|                NULL|en:to-be-complete...|en:to-be-complete...|To be completed,N...|       NULL|          NULL|       unknown|                NULL|            NULL| NULL|                    NULL|          NULL|                NULL|       0.275|  1673478020|2023-01-11T23:00:20Z|                NULL|                NULL|https://images.op...|https://images.op...|                 NULL|                       NULL|https://images.op...|     https://images.op...|          NULL|               0|          0|                NULL|       0|                 0|             NULL|             NULL|              NULL|            NULL|            NULL|              NULL|              NULL|             NULL|               NULL|             NULL|                NULL|             NULL|              NULL|              NULL|                NULL|                    NULL|            NULL|                    NULL|            NULL|            NULL|                     NULL|                      NULL|                     NULL|              NULL|                 NULL|                     NULL|                            NULL|           NULL|             NULL|             NULL|          NULL|            NULL|              NULL|          NULL|            NULL|                 0|          0|             NULL|        NULL|        NULL|         NULL|        NULL|        NULL|              NULL|       NULL|        NULL|           NULL|         0|              NULL|                NULL|            0|       NULL|               NULL|            NULL|        0|           NULL|          0|        NULL|          NULL|              NULL|          NULL|          NULL|          NULL|          NULL|           NULL|           NULL|           NULL|           NULL|           NULL|        NULL|            NULL|       NULL|                 NULL|       NULL|            NULL|          NULL|         NULL|        NULL|           NULL|     NULL|          NULL|     NULL|       NULL|          NULL|         NULL|         NULL|         NULL|           NULL|       NULL|         NULL|        NULL|   NULL|                       NULL|                             NULL|                                NULL|                                                 NULL|                            NULL|      NULL|           NULL|                 NULL|                                   NULL|                   NULL|                   NULL|               NULL|               NULL|        NULL|              NULL|            NULL|         NULL|          NULL|         NULL|        NULL|        NULL|\n",
      "+--------------------+--------------------+--------------+----------+--------------------+---------------+----------------------+----------------+--------------+---------------------+--------------------+------------------------+------------+--------+---------+--------------+------------+--------------+-------+-----------+--------------------+--------------------+--------------------+-------+------------+----------+--------------------+-------------------------+------------+------------+---------+---------+--------------+------------------------+------+-----------+---------------+------+---------+----------------+-------------+--------------------+--------------------+-------------------------+---------+------------+------+-----------+---------+------------+----------------+-----------------+-----------+---------+--------------+------------+----------------+----------------+----------+--------------------+--------------+-----------------+--------------------+--------------------+--------------------+--------------------+--------------------+-----------+--------------+--------------+--------------------+----------------+-----+------------------------+--------------+--------------------+------------+------------+--------------------+--------------------+--------------------+--------------------+--------------------+---------------------+---------------------------+--------------------+-------------------------+--------------+----------------+-----------+--------------------+--------+------------------+-----------------+-----------------+------------------+----------------+----------------+------------------+------------------+-----------------+-------------------+-----------------+--------------------+-----------------+------------------+------------------+--------------------+------------------------+----------------+------------------------+----------------+----------------+-------------------------+--------------------------+-------------------------+------------------+---------------------+-------------------------+--------------------------------+---------------+-----------------+-----------------+--------------+----------------+------------------+--------------+----------------+------------------+-----------+-----------------+------------+------------+-------------+------------+------------+------------------+-----------+------------+---------------+----------+------------------+--------------------+-------------+-----------+-------------------+----------------+---------+---------------+-----------+------------+--------------+------------------+--------------+--------------+--------------+--------------+---------------+---------------+---------------+---------------+---------------+------------+----------------+-----------+---------------------+-----------+----------------+--------------+-------------+------------+---------------+---------+--------------+---------+-----------+--------------+-------------+-------------+-------------+---------------+-----------+-------------+------------+-------+---------------------------+---------------------------------+------------------------------------+-----------------------------------------------------+--------------------------------+----------+---------------+---------------------+---------------------------------------+-----------------------+-----------------------+-------------------+-------------------+------------+------------------+----------------+-------------+--------------+-------------+------------+------------+\n",
      "only showing top 10 rows\n",
      "\n"
     ]
    }
   ],
   "source": [
    "# Affichage des 10 premières lignes\n",
    "df.show(10)"
   ]
  },
  {
   "cell_type": "markdown",
   "metadata": {},
   "source": [
    "_ _ _"
   ]
  },
  {
   "cell_type": "markdown",
   "metadata": {},
   "source": [
    "# Traitement sur les colonnes\n",
    "\n",
    "## Sélection des colonnes utiles\n",
    "\n",
    "Suppression des colonnes entièrement vides"
   ]
  },
  {
   "cell_type": "code",
   "execution_count": 65,
   "metadata": {},
   "outputs": [
    {
     "name": "stdout",
     "output_type": "stream",
     "text": [
      "\n",
      "Colonnes à supprimer : ['cities', 'allergens_en', 'additives']\n"
     ]
    }
   ],
   "source": [
    "# Suppression des colonnes entièrement vides :\n",
    "\n",
    "# Calculer le nombre de valeurs non NULL pour chaque colonne\n",
    "non_null_counts = df.agg(*(count(c).alias(c) for c in df.columns))\n",
    "\n",
    "# Collecter les statistiques et filtrer les colonnes avec uniquement des valeurs NULL\n",
    "non_null_counts_collected = non_null_counts.collect()[0].asDict()\n",
    "columns_to_drop = [c for c, count in non_null_counts_collected.items() if count == 0]\n",
    "\n",
    "# Supprimer les colonnes avec uniquement des valeurs NULL\n",
    "df_cleaned = df.drop(*columns_to_drop)\n",
    "\n",
    "# Afficher le schéma et les premières lignes du DataFrame nettoyé pour vérifier\n",
    "#df_cleaned.printSchema()\n",
    "#df_cleaned.show(10)\n",
    "print(f\"\\nColonnes à supprimer : {columns_to_drop}\")"
   ]
  },
  {
   "cell_type": "markdown",
   "metadata": {},
   "source": [
    "Création d'une vue temporaire du fichier csv afin de vérifier nos colonnes avant validation ou suppression\n",
    "\n",
    "Les colonnes sont examinées une à une en fonction de : \n",
    "- l'occurrence de leurs valeurs\n",
    "- la pertinence des valeurs remontées"
   ]
  },
  {
   "cell_type": "code",
   "execution_count": 66,
   "metadata": {},
   "outputs": [
    {
     "name": "stdout",
     "output_type": "stream",
     "text": [
      "+-------------------+\n",
      "|count(acidity_100g)|\n",
      "+-------------------+\n",
      "|                  7|\n",
      "+-------------------+\n",
      "\n",
      "+------------+\n",
      "|acidity_100g|\n",
      "+------------+\n",
      "|6           |\n",
      "|0.39        |\n",
      "|5           |\n",
      "|8           |\n",
      "|4           |\n",
      "+------------+\n",
      "\n"
     ]
    }
   ],
   "source": [
    "# Création d'une vue temporaire\n",
    "df_cleaned.createOrReplaceTempView(\"open_food_facts\")\n",
    "\n",
    "# Requête SQL sélectionnant les lignes non vides d'une colonne spécifique\n",
    "empty_rows = spark.sql(\"\"\"\n",
    "SELECT COUNT(acidity_100g)\n",
    "FROM open_food_facts\n",
    "WHERE acidity_100g IS NOT NULL;\n",
    "\"\"\")\n",
    "\n",
    "# Afficher le résultat de la requête\n",
    "empty_rows.show()\n",
    "\n",
    "\n",
    "# Requête SQL sélectionnant les lignes non vides d'une colonne spécifique\n",
    "rows_values = spark.sql(\"\"\"\n",
    "SELECT DISTINCT acidity_100g\n",
    "FROM open_food_facts\n",
    "WHERE acidity_100g IS NOT NULL\n",
    "LIMIT 15;\n",
    "\"\"\")\n",
    "\n",
    "# Afficher le résultat de la requête sans troncation\n",
    "rows_values.show(truncate=False)\n"
   ]
  },
  {
   "cell_type": "markdown",
   "metadata": {},
   "source": [
    "Voici le détail de la sélection de nos colonnes :\n",
    "\n",
    "Les colonnes doivent être utiles pour notre devoir et posséder un nombre d'occurrences suffisants pour être gardées.<br>\n",
    "Les colonnes inutiles, dont les informations sont équivoques et dont les occurrences ne sont pas suffisantes ne seront pas conservées.\n",
    "\n",
    "- code ==> Inutile\n",
    "- url ==> Inutile\n",
    "- creator ==> Inutile\n",
    "- created_t ==> Inutile\n",
    "- created_datetime ==> Inutile\n",
    "- last_modified_t ==> Inutie\n",
    "- last_modified_datetime ==> Inutile\n",
    "- last_modified_by ==> Inutie\n",
    "- last_updated_t ==> Inutile\n",
    "- last_updated_datetime ==> Inutile\n",
    "- product_name ==> A Garder (name)\n",
    "- abbreviated_product_name ==> Utile mais la colonne product_name convient mieux\n",
    "- generic_name ==> Utile mais la colonne product_name convient mieux\n",
    "- quantity ==> Inutile\n",
    "- packaging ==> Inutie\n",
    "- packaging_tags ==> Inutile\n",
    "- packaging_en ==> Inutile\n",
    "- packaging_text ==> Inutile\n",
    "- brands ==> Inutile\n",
    "- brands_tags ==> Inutile\n",
    "- categories ==> Trop général, la colonne food_groups_tags convient mieux pour déterminer le groupe alimentaire auquel appartient chaque aliment\n",
    "- categories_tags ==> Trop général, la colonne food_groups_tags convient mieux pour déterminer le groupe alimentaire auquel appartient chaque aliment\n",
    "- categories_en ==> Trop général, la colonne food_groups_tags convient mieux pour déterminer le groupe alimentaire auquel appartient chaque aliment\n",
    "- origins ==> Utile mais avec seulement 127259 occurrences, la colonne countries_tags convient mieux\n",
    "- origins_tags ==> Utile mais avec seulement 127124 occurrences, la colonne countries_tags convient mieux\n",
    "- origins_en ==> Utile mais avec seulement 127124 occurences, la colonne countries_tags convient mieux\n",
    "- manufacturing_places ==> Inutile\n",
    "- manufacturing_places_tags ==> Inutile\n",
    "- labels ==> Utile, occurrences suffisantes, mais trop équivoque et complexe à traiter\n",
    "- labels_tags ==> Utile, occurrences suffisantes, mais trop équivoque et complexe à traiter\n",
    "- labels_en ==> Utile, occurrences suffisantes, mais trop équivoque et complexe à traiter\n",
    "- emb_codes ==> Inutile\n",
    "- emb_codes_tags ==> Inutile\n",
    "- first_packaging_code_geo ==> Inutile\n",
    "- cities ==> Colonne vide\n",
    "- cities_tags ==> Inutile\n",
    "- purchase_places ==> Intéressant, mais la colonne countries_tags convient mieux\n",
    "- stores ==> Inutile\n",
    "- countries ==> La colonne countries_tags convient mieux\n",
    "- countries_tags ==> A Garder (localisation),car les enegistrements sont au même format, contrairement à countries et countries_en\n",
    "- countries_en ==> La colonne countries_tags convient mieux\n",
    "- ingredients_text ==> Trop complexe à exploiter\n",
    "- ingredients_tags ==> Trop complexe à exploiter\n",
    "- ingredients_analysis_tags ==> Trop complexe à exploiter\n",
    "- allergens ==> Utile mais pas assez d'occurrences, seulement 262069\n",
    "- allergens_en ==> Colonne vide\n",
    "- traces ==> Utile, pour déterminer les résidus potentiellement allergène  mais pas assez d'occurences, seulement 136204\n",
    "- traces_tags ==> Utile, pour déterminer les résidus potentiellement allergène  mais pas assez d'occurences\n",
    "- traces_en ==> Utile, pour déterminer les résidus potentiellement allergène  mais pas assez d'occurences\n",
    "- serving_size ==> Inutile\n",
    "- serving_quantity ==> Inutile\n",
    "- no_nutrition_data ==> Inutile\n",
    "- additives_n ==> Inutile\n",
    "- additives ==> Colonne vide\n",
    "- additives_tags ==> Inutile\n",
    "- additives_en ==> Inutile\n",
    "- nutriscore_score ==> Inutile\n",
    "- nutriscore_grade ==> Inutile\n",
    "- nova_group ==> A Garder car intéressant pour la santé du consommateur en bannissant les aliments du groupe 4 qui favorisent le développement de cancers\n",
    "- pnns_groups_1 ==> Intéressant, mais de niveau national et non international\n",
    "- pnns_groups_2 ==> Intéressant, mais de niveau national et non international\n",
    "- food_groups ==> Intéressant, mais trop complexe à traiter\n",
    "- food_groups_tags ==> A Garder (catégorie), nous donne un groupe par aliment, cette colonne sera utile pour nos tris futurs\n",
    "- food_groups_en ==> Intéressant mais trop complexe à traiter\n",
    "- states ==> Données à compléter ...\n",
    "- states_tags ==> Données à compléter ...\n",
    "- states_en ==> Données à compléter ...\n",
    "- brand_owner ==> Inutile\n",
    "- ecoscore_score ==> Intéressant mais trop complexe à analyser, il nous faut grouper ces chiffres afin de les rendre plus lisibles : la colonne ecoscore_grade convient donc mieux\n",
    "- ecoscore_grade ==> A Garder, car tournée vers une alimentation plus durable et qui se soucie de notre santé. Seuls les aliments dont les ecoscores notés A et B seront conservés\n",
    "- nutrient_levels_tags ==> Intéressant mais pas suffisamment précis pour la sélection de nos aliments\n",
    "- product_quantity ==> Inutile\n",
    "- owner ==> Inutile\n",
    "- data_quality_errors_tags ==> Inutile\n",
    "- unique_scans_n ==> Inutile\n",
    "- popularity_tags ==> Inutile\n",
    "- completeness ==> Inutile\n",
    "- last_image_t ==> Inutile\n",
    "- last_image_datetime ==> Inutile\n",
    "- main_category ==> Intéressant mais les catégories sont trop spécifiques, nous préférons la colonne food_groups_tags\n",
    "- main_category_en ==> Intéressant mais les catégories sont trop spécifiques, nous préférons la colonne food_groups_tags\n",
    "- image_url ==> Inutile\n",
    "- image_small_url ==> Inutile\n",
    "- image_ingredients_url ==> Inutile\n",
    "- image_ingredients_small_url ==> Inutile\n",
    "- image_nutrition_url ==> Inutile\n",
    "- image_nutrition_small_url ==> Inutile\n",
    "- energy-kj_100g ==> Intéressant mais l'énergie en joules est moins répandue que l'énergie en calories lorsque cela concerne la nourriture, nous privilégeons donc la colonne energy-kcal_100g\n",
    "- energy-kcal_100g ==> A Garder (calories), nous avons la quantité de calories pour 100 grammes  \n",
    "- energy_100g ==> Pas d'unité ... Nous privilégeons donc la colonne energy-kcal_100g\n",
    "- energy-from-fat_100g ==> Inutile\n",
    "- fat_100g ==> Trop général, il nous faut davantage de précision, seuls les gras insaturés, bons pour la santé sont à privilégier\n",
    "- saturated-fat_100g ==> A garder afin d'effectuer un tri et supprimer les aliments en contenant une certaine quantité\n",
    "- butyric-acid_100g ==> Pas assez d'occurrences\n",
    "- caproic-acid_100g ==> Pas assez d'occurrences\n",
    "- caprylic-acid_100g ==> Pas assez d'occurrences\n",
    "- capric-acid_100g ==> Pas assez d'occurrences\n",
    "- lauric-acid_100g ==> Pas assez d'occurrences\n",
    "- myristic-acid_100g ==> Pas assez d'occurrences\n",
    "- palmitic-acid_100g ==> Pas assez d'occurrences\n",
    "- stearic-acid_100g ==> Pas assez d'occurrences\n",
    "- arachidic-acid_100g ==> Pas assez d'occurrences\n",
    "- behenic-acid_100g ==> Pas assez d'occurrences\n",
    "- lignoceric-acid_100g ==> Pas assez d'occurrences\n",
    "- cerotic-acid_100g ==> Pas assez d'occurrences\n",
    "- montanic-acid_100g ==> Pas assez d'occurrences\n",
    "- melissic-acid_100g ==> Pas assez d'occurrences\n",
    "- unsaturated-fat_100g ==> Pas assez d'occurrences\n",
    "- monounsaturated-fat_100g ==> Pas assez d'occurences\n",
    "- omega-9-fat_100g ==> Pas assez d'occurrences\n",
    "- polyunsaturated-fat_100g ==> Pas assez d'occurrences\n",
    "- omega-3-fat_100g ==> Pas assez d'occurrences\n",
    "- omega-6-fat_100g ==> Pas assez d'occurrences\n",
    "- alpha-linolenic-acid_100g ==>Pas assez d'occurrences\n",
    "- eicosapentaenoic-acid_100g ==> Pas assez d'occurrences\n",
    "- docosahexaenoic-acid_100g ==> Pas assez d'occurrences\n",
    "- linoleic-acid_100g ==> Pas assez d'occurrences\n",
    "- arachidonic-acid_100g ==> Pas assez d'occurrences\n",
    "- gamma-linolenic-acid_100g ==> Pas assez d'occurrences\n",
    "- dihomo-gamma-linolenic-acid_100g ==> Pas assez d'occurrences\n",
    "- oleic-acid_100g ==> Pas assez d'occurrences \n",
    "- elaidic-acid_100g ==> Pas assez d'occurrences\n",
    "- gondoic-acid_100g ==> Pas assez d'occurrences\n",
    "- mead-acid_100g ==> Pas assez d'occurrences\n",
    "- erucic-acid_100g ==> Pas assez d'occurrences\n",
    "- nervonic-acid_100g ==> Pas assez d'occurrences\n",
    "- trans-fat_100g ==> Pas assez d'occurences (environ 270 000)\n",
    "- cholesterol_100g ==> Pas assez d'occurences (environ 280 000)\n",
    "- carbohydrates_100g ==> A Garder (carbohydrates)\n",
    "- sugars_100g ==> A Garder (sugars)\n",
    "- added-sugars_100g ==> Pas assez d'occurrences\n",
    "- sucrose_100g ==> Pas assez d'occurrences\n",
    "- glucose_100g ==> Pas assez d'occurrences\n",
    "- fructose_100g ==> Pas assez d'occurrences\n",
    "- lactose_100g ==> Pas assez d'occurrences\n",
    "- maltose_100g ==> Pas assez d'occurerences\n",
    "- maltodextrins_100g ==> Pas assez d'occurerences\n",
    "- starch_100g ==> Pas assez d'occurerences\n",
    "- polyols_100g ==> Pas assez d'occurerences\n",
    "- erythritol_100g ==> Pas assez d'occurrences\n",
    "- fiber_100g ==> A Garder (fiber)\n",
    "- soluble-fiber_100g ==> Pas assez d'occurrences\n",
    "- insoluble-fiber_100g ==> Pas assez d'occurrences\n",
    "- proteins_100g ==> A Garder (proteins)\n",
    "- casein_100g ==> Pas assez d'occurrences\n",
    "- serum-proteins_100g ==> Pas assez d'occurrences\n",
    "- nucleotides_100g ==> Pas assez d'occurrences\n",
    "- salt_100g ==> A Garder (salt)\n",
    "- added-salt_100g ==> Pas assez d'occurrences\n",
    "- sodium_100g ==> A Garder (sodium)\n",
    "- alcohol_100g ==> Pas assez d'occurrences\n",
    "- vitamin-a_100g ==> Pas assez d'occurrences\n",
    "- beta-carotene_100g ==> Pas assez d'occurrences\n",
    "- vitamin-d_100g ==> Pas assez d'occurrences\n",
    "- vitamin-e_100g ==> Pas assez d'occurrences\n",
    "- vitamin-k_100g ==> Pas assez d'occurrences\n",
    "- vitamin-c_100g ==> A Garder (vitamin-c)\n",
    "- vitamin-b1_100g ==> Pas assez d'occurrences\n",
    "- vitamin-b2_100g ==> Pas assez d'occurrences\n",
    "- vitamin-pp_100g ==> Pas assez d'occurrences\n",
    "- vitamin-b6_100g ==> Pas assez d'occurrences\n",
    "- vitamin-b9_100g ==> Pas assez d'occurrences\n",
    "- folates_100g ==> Pas assez d'occurrences\n",
    "- vitamin-b12_100g ==> Pas assez d'occurrences\n",
    "- biotin_100g ==> Pas assez d'occurrences\n",
    "- pantothenic-acid_100g ==> Pas assez d'occurrences\n",
    "- silica_100g ==> Pas assez d'occurrences\n",
    "- bicarbonate_100g ==> Pas assez d'occurrences\n",
    "- potassium_100g ==> Pas assez d'occurrences\n",
    "- chloride_100g ==> Pas assez d'occurrences \n",
    "- calcium_100g ==> Pas assez d'occurrences, environ 280 000\n",
    "- phosphorus_100g ==> Pas assez d'occurrences\n",
    "- iron_100g ==> Pas assez d'occurrences, environ 255 000\n",
    "- magnesium_100g ==> Pas assez d'occurrences\n",
    "- zinc_100g ==> Pas assez d'occurrences\n",
    "- copper_100g ==> Pas assez d'occurrences\n",
    "- manganese_100g ==> Pas assez d'occurrences\n",
    "- fluoride_100g ==> Pas assez d'occurrences\n",
    "- selenium_100g ==> Pas assez d'occurrences\n",
    "- chromium_100g ==> Pas assez d'occurrences\n",
    "- molybdenum_100g ==> Pas assez d'occurrences \n",
    "- iodine_100g ==> Pas assez d'occurrences \n",
    "- caffeine_100g ==> Pas assez d'occurrences\n",
    "- taurine_100g ==> Pas assez d'occurrences\n",
    "- ph_100g ==> Pas assez d'occurrences\n",
    "- fruits-vegetables-nuts_100g ==> Pas assez d'occurrences\n",
    "- fruits-vegetables-nuts-dried_100g ==> Pas assez d'occurrences\n",
    "- fruits-vegetables-nuts-estimate_100g ==> Pas assez d'occurrences\n",
    "- fruits-vegetables-nuts-estimate-from-ingredients_100g ==> Presqu'assez d'occurrences\n",
    "- collagen-meat-protein-ratio_100g ==> Pas assez d'occurrences\n",
    "- cocoa_100g ==> Pas assez d'occurrences\n",
    "- chlorophyl_100g ==> Pas assez d'occurrences\n",
    "- carbon-footprint_100g ==> Pas assez d'occurrences\n",
    "- carbon-footprint-from-meat-or-fish_100g ==> Pas assez d'occurrences \n",
    "- nutrition-score-fr_100g ==> Inutile\n",
    "- nutrition-score-uk_100g ==> Inutile\n",
    "- glycemic-index_100g ==> Pas assez d'occurrences\n",
    "- water-hardness_100g ==> Inutile\n",
    "- choline_100g ==> Pas assez d'occurrences\n",
    "- phylloquinone_100g ==> Pas assez d'occurrences\n",
    "- beta-glucan_100g ==> Pas assez d'occurrences\n",
    "- inositol_100g ==> Pas assez d'occurrences\n",
    "- carnitine_100g ==> Pas assez d'occurrences\n",
    "- sulphate_100g ==> Pas assez d'occurrences\n",
    "- nitrate_100g ==> Pas assez d'occurrences\n",
    "- acidity_100g ==> Pas assez d'occurrences\n"
   ]
  },
  {
   "cell_type": "markdown",
   "metadata": {},
   "source": [
    "Ainsi nous travaillerons sur les colonnes suivantes :\n",
    "\n",
    "- product_name (name)\n",
    "- countries_tags (localisation)\n",
    "- nova_group ==> nous la conserverons temporairement car elle est intéressante pour la santé du consommateur. Nous bannirons les aliments du groupe 4 qui favorisent le développement de cancers.\n",
    "- food_groups_tags ==> (categorie), nous donne un groupe par aliment, cette colonne sera utile pour nos tris futurs.\n",
    "- ecoscore_grade ==> nous la conserverons temporairement car elle est tournée vers une alimentation plus durable et qui se soucie de la santé du consommateur. Seuls les aliments dont les ecoscores notés A et B seront conservés.\n",
    "- energy-kcal_100g ==> (calories), nous avons la quantité de calories pour 100 grammes.\n",
    "- saturated-fat_100g ==> nous la conserverons temporairement afin d'effectuer un tri et supprimer les aliments en contenant une certaine quantité.\n",
    "- carbohydrates_100g ==> (carbohydrates)\n",
    "- sugars_100g ==> (sugars)\n",
    "- fiber_100g ==> (fiber)\n",
    "- proteins_100g ==> (proteins)\n",
    "- salt_100g ==> (salt)\n",
    "- sodium_100g ==> (sodium)\n",
    "- vitamin-c_100g ==> (vitamin-c)\n",
    "\n",
    "\n",
    "\n",
    "\n"
   ]
  },
  {
   "cell_type": "markdown",
   "metadata": {},
   "source": [
    "Suppression des colonnes inutiles :"
   ]
  },
  {
   "cell_type": "code",
   "execution_count": 67,
   "metadata": {},
   "outputs": [
    {
     "name": "stdout",
     "output_type": "stream",
     "text": [
      "+-----------------------------+----------------+----------+--------------------------------------------+--------------+----------------+------------------+------------------+-----------+----------+-------------+---------+-----------+--------------+\n",
      "|product_name                 |countries_tags  |nova_group|food_groups_tags                            |ecoscore_grade|energy-kcal_100g|saturated-fat_100g|carbohydrates_100g|sugars_100g|fiber_100g|proteins_100g|salt_100g|sodium_100g|vitamin-c_100g|\n",
      "+-----------------------------+----------------+----------+--------------------------------------------+--------------+----------------+------------------+------------------+-----------+----------+-------------+---------+-----------+--------------+\n",
      "|jeunes pousses               |en:france       |NULL      |en:fruits-and-vegetables,en:vegetables      |b             |NULL            |NULL              |NULL              |NULL       |NULL      |NULL         |NULL     |NULL       |NULL          |\n",
      "|Andrè                        |en:germany      |NULL      |NULL                                        |unknown       |165             |2                 |65                |12.6       |3         |1.5          |NULL     |NULL       |NULL          |\n",
      "|L.casei                      |en:spain        |NULL      |NULL                                        |unknown       |NULL            |0.9               |9.8               |9.8        |NULL      |2.7          |0.1      |0.04       |NULL          |\n",
      "|Skyr                         |en:france       |NULL      |en:milk-and-dairy-products,en:dairy-desserts|b             |57              |0.1               |3.9               |3.9        |NULL      |10           |0.09     |0.036      |NULL          |\n",
      "|Vitória crackers             |en:france       |NULL      |NULL                                        |unknown       |375             |3.08              |70.1              |15         |NULL      |7.8          |1.4      |0.56       |NULL          |\n",
      "|Cacao                        |en:france       |NULL      |NULL                                        |unknown       |NULL            |NULL              |NULL              |NULL       |NULL      |NULL         |NULL     |NULL       |NULL          |\n",
      "|Filetes de pollo empanado    |en:spain        |NULL      |NULL                                        |unknown       |163.9           |1                 |NULL              |NULL       |NULL      |15.3         |1.1      |0.44       |NULL          |\n",
      "|Burger Meat Pollo            |en:spain        |NULL      |NULL                                        |unknown       |194             |3.9               |5.7               |0.05       |NULL      |18           |NULL     |NULL       |NULL          |\n",
      "|Hamburguesas de ternera 100% |en:spain        |NULL      |NULL                                        |unknown       |874.9           |6.1               |2.6               |1          |NULL      |15.7         |2.1      |0.84       |NULL          |\n",
      "|Blueberry Cobbler Coffee     |en:united-states|NULL      |NULL                                        |unknown       |0               |0                 |0                 |0          |0         |0            |0        |0          |NULL          |\n",
      "|hyde icon                    |en:united-states|4         |NULL                                        |unknown       |NULL            |NULL              |NULL              |NULL       |NULL      |NULL         |NULL     |NULL       |NULL          |\n",
      "| moutarde au moût de raisin  |en:france       |NULL      |en:fats-and-sauces,en:dressings-and-sauces  |c             |NULL            |2.2               |29                |22         |0         |5.1          |4.6      |1.84       |NULL          |\n",
      "|Sauce Sweety chili 0%        |en:france       |NULL      |NULL                                        |unknown       |21              |0                 |4.8               |0.4        |NULL      |0.2          |2.04     |0.816      |NULL          |\n",
      "|Mini coco                    |en:france       |NULL      |NULL                                        |unknown       |60              |1                 |10                |3          |NULL      |2            |1.15     |0.46       |NULL          |\n",
      "|Pistou d'ail des ours        |en:france       |NULL      |NULL                                        |unknown       |NULL            |NULL              |NULL              |NULL       |NULL      |NULL         |NULL     |NULL       |NULL          |\n",
      "|Thé noir glacé pomme         |en:france       |NULL      |NULL                                        |unknown       |52              |0.1               |12                |11         |NULL      |0.5          |NULL     |NULL       |NULL          |\n",
      "|Pain maïs                    |en:france       |NULL      |NULL                                        |unknown       |NULL            |NULL              |NULL              |NULL       |NULL      |NULL         |NULL     |NULL       |NULL          |\n",
      "|Mendiants                    |en:france       |NULL      |NULL                                        |unknown       |NULL            |NULL              |NULL              |NULL       |NULL      |NULL         |NULL     |NULL       |NULL          |\n",
      "|Limonade artisanale a la rose|en:france       |NULL      |NULL                                        |unknown       |NULL            |NULL              |NULL              |NULL       |NULL      |NULL         |NULL     |NULL       |NULL          |\n",
      "|Tablette Tanzanie            |en:france       |NULL      |NULL                                        |unknown       |NULL            |NULL              |NULL              |NULL       |NULL      |NULL         |NULL     |NULL       |NULL          |\n",
      "+-----------------------------+----------------+----------+--------------------------------------------+--------------+----------------+------------------+------------------+-----------+----------+-------------+---------+-----------+--------------+\n",
      "only showing top 20 rows\n",
      "\n"
     ]
    }
   ],
   "source": [
    "# Nous entrons dans une variable les colonnes à garder\n",
    "colonnes_a_garder = [\"product_name\",\"countries_tags\", \"nova_group\", \"food_groups_tags\", \"ecoscore_grade\", \"energy-kcal_100g\", \"saturated-fat_100g\", \"carbohydrates_100g\", \"sugars_100g\", \"fiber_100g\", \"proteins_100g\", \"salt_100g\", \"sodium_100g\", \"vitamin-c_100g\"]\n",
    "\n",
    "# Nous sélectionnons uniquement les colonnes à conserver\n",
    "df_cleaned_2 = df_cleaned.select(*colonnes_a_garder)\n",
    "\n",
    "# Nous affichons notre nouveau DataFrame\n",
    "df_cleaned_2.show(truncate=False)"
   ]
  },
  {
   "cell_type": "markdown",
   "metadata": {},
   "source": [
    "Nous devons ensuite procéder à la suppression de toutes les lignes possédant au moins une valeur de type NULL :"
   ]
  },
  {
   "cell_type": "code",
   "execution_count": 68,
   "metadata": {},
   "outputs": [
    {
     "name": "stdout",
     "output_type": "stream",
     "text": [
      "+-----------------------------------------+----------------+----------+--------------------------------------------+--------------+----------------+------------------+------------------+-----------+----------+-------------+---------+-----------+--------------+\n",
      "|product_name                             |countries_tags  |nova_group|food_groups_tags                            |ecoscore_grade|energy-kcal_100g|saturated-fat_100g|carbohydrates_100g|sugars_100g|fiber_100g|proteins_100g|salt_100g|sodium_100g|vitamin-c_100g|\n",
      "+-----------------------------------------+----------------+----------+--------------------------------------------+--------------+----------------+------------------+------------------+-----------+----------+-------------+---------+-----------+--------------+\n",
      "|Cranberries                              |en:united-states|3         |en:fruits-and-vegetables,en:fruits          |d             |300             |0                 |83.33             |66.67      |10        |0            |0        |0          |0             |\n",
      "|Salade Cesar                             |en:canada       |4         |en:fruits-and-vegetables,en:vegetables      |unknown       |290             |7                 |23                |0          |2         |22           |2.16     |0.864      |0             |\n",
      "|Chaussons tressés aux pommes             |en:canada       |4         |en:sugary-snacks,en:pastries                |b             |260             |2                 |38.7              |24.7       |2         |3.33         |0.647    |0.259      |0.0016        |\n",
      "|Quiche Lorraine                          |en:canada       |4         |en:composite-foods,en:pizza-pies-and-quiches|d             |114             |2.86              |7.86              |0.714      |0.357     |5.36         |0.499    |0.2        |0.000429      |\n",
      "|Brioches roulées avec raisins            |en:canada       |4         |en:sugary-snacks,en:biscuits-and-cakes      |unknown       |128             |1                 |50                |19         |1         |7            |0        |0          |0             |\n",
      "|Sliced Plain Bagel                       |en:united-states|4         |en:cereals-and-potatoes,en:bread            |b             |365             |0                 |71.76             |4.71       |2.4       |12.94        |1.19634  |0.478536   |0             |\n",
      "|Muffin                                   |en:united-states|4         |en:sugary-snacks,en:biscuits-and-cakes      |unknown       |418             |5.29              |51.76             |32.94      |2.4       |5.88         |0.6731   |0.26924    |0             |\n",
      "|Apple Turnover                           |en:united-states|3         |en:sugary-snacks,en:pastries                |c             |388             |11.76             |42.35             |15.29      |2.4       |4.71         |0.80772  |0.323088   |0.0282        |\n",
      "|German fine bread                        |en:united-states|3         |en:cereals-and-potatoes,en:bread            |unknown       |263             |0                 |52.63             |8.77       |7         |7.02         |1.71     |0.684      |0             |\n",
      "|Today's temptations, lithuanian rye bread|en:united-states|3         |en:cereals-and-potatoes,en:bread            |unknown       |228             |0                 |47.37             |8.77       |1.8       |5.26         |1.4025   |0.561      |0.0021        |\n",
      "|Bakers Best, White Bread                 |en:united-states|4         |en:cereals-and-potatoes,en:bread            |unknown       |235             |0                 |50                |5.88       |2.9       |8.82         |1.25     |0.5        |0             |\n",
      "|Bakers Best, Rye Bread                   |en:united-states|4         |en:cereals-and-potatoes,en:bread            |unknown       |256             |0                 |53.85             |2.56       |2.6       |7.69         |0.8025   |0.321      |0             |\n",
      "|Piasten, Chocolate Assortment            |en:united-states|4         |en:sugary-snacks,en:sweets                  |unknown       |485             |9.75              |58.75             |6.5        |4.2       |8.75         |0.03     |0.012      |0.0035        |\n",
      "|Nestle, dark truffles grand chocolate    |en:united-states|4         |en:sugary-snacks,en:sweets                  |unknown       |475             |20                |50                |35         |5         |5            |0.125    |0.05       |0             |\n",
      "|Big Papa's, Southern Sauce               |en:united-states|3         |en:fats-and-sauces,en:dressings-and-sauces  |unknown       |250             |0                 |43.75             |34.38      |0         |0            |2.97     |1.188      |0.0188        |\n",
      "|Best Sweet-Potato Cookies                |en:united-states|3         |en:sugary-snacks,en:biscuits-and-cakes      |c             |388             |10.29             |50                |17.65      |1.5       |2.94         |0.3675   |0.147      |0             |\n",
      "|Best Ginger Snap Cookies                 |en:united-states|3         |en:sugary-snacks,en:biscuits-and-cakes      |c             |388             |10.29             |50                |17.65      |1.5       |2.94         |0.3675   |0.147      |0             |\n",
      "|Potato chips                             |en:united-states|3         |en:salty-snacks,en:appetizers               |unknown       |536             |3.57              |57.14             |0          |3.6       |7.14         |0.9375   |0.375      |0.0214        |\n",
      "|Solid Milk Chocolate                     |en:united-states|4         |en:sugary-snacks,en:sweets                  |unknown       |554             |19.64             |58.93             |55.36      |1.8       |7.14         |0.2      |0.08       |0.0021        |\n",
      "|Madelaine Chocolate Company, Chocolate   |en:united-states|4         |en:sugary-snacks,en:sweets                  |unknown       |550             |20                |57.5              |55         |2.5       |7.5          |0.1875   |0.075      |0.003         |\n",
      "+-----------------------------------------+----------------+----------+--------------------------------------------+--------------+----------------+------------------+------------------+-----------+----------+-------------+---------+-----------+--------------+\n",
      "only showing top 20 rows\n",
      "\n"
     ]
    },
    {
     "name": "stdout",
     "output_type": "stream",
     "text": [
      "Nombre de lignes : 137316\n"
     ]
    }
   ],
   "source": [
    "# Suppression des lignes avec des valeurs NULL\n",
    "df_cleaned_3 = df_cleaned_2.dropna()\n",
    "\n",
    "# Nous affichons notre nouveau DataFrame\n",
    "df_cleaned_3.show(truncate=False)\n",
    "\n",
    "# Affichons le nombre de lignes de notre nouveau DataFrame\n",
    "print(f\"Nombre de lignes : {df_cleaned_3.count()}\")"
   ]
  },
  {
   "cell_type": "markdown",
   "metadata": {},
   "source": [
    "## Transformation des colonnes sélectionnées"
   ]
  },
  {
   "cell_type": "markdown",
   "metadata": {},
   "source": [
    "Nous supprimons maintenant toutes les lignes dont les valeurs de la colonne nova_group sont égales à 4.</br>\n",
    "Ces aliments peuvent potentiellement développer des cancers.</br>\n",
    "Nous supprimons ensuite cette colonne.\n"
   ]
  },
  {
   "cell_type": "code",
   "execution_count": 69,
   "metadata": {},
   "outputs": [
    {
     "name": "stdout",
     "output_type": "stream",
     "text": [
      "+------------------------------------------------------------+----------------+------------------------------------------+--------------+----------------+------------------+------------------+-----------+----------+-------------+---------+-----------+--------------+\n",
      "|product_name                                                |countries_tags  |food_groups_tags                          |ecoscore_grade|energy-kcal_100g|saturated-fat_100g|carbohydrates_100g|sugars_100g|fiber_100g|proteins_100g|salt_100g|sodium_100g|vitamin-c_100g|\n",
      "+------------------------------------------------------------+----------------+------------------------------------------+--------------+----------------+------------------+------------------+-----------+----------+-------------+---------+-----------+--------------+\n",
      "|Cranberries                                                 |en:united-states|en:fruits-and-vegetables,en:fruits        |d             |300             |0                 |83.33             |66.67      |10        |0            |0        |0          |0             |\n",
      "|Apple Turnover                                              |en:united-states|en:sugary-snacks,en:pastries              |c             |388             |11.76             |42.35             |15.29      |2.4       |4.71         |0.80772  |0.323088   |0.0282        |\n",
      "|German fine bread                                           |en:united-states|en:cereals-and-potatoes,en:bread          |unknown       |263             |0                 |52.63             |8.77       |7         |7.02         |1.71     |0.684      |0             |\n",
      "|Today's temptations, lithuanian rye bread                   |en:united-states|en:cereals-and-potatoes,en:bread          |unknown       |228             |0                 |47.37             |8.77       |1.8       |5.26         |1.4025   |0.561      |0.0021        |\n",
      "|Big Papa's, Southern Sauce                                  |en:united-states|en:fats-and-sauces,en:dressings-and-sauces|unknown       |250             |0                 |43.75             |34.38      |0         |0            |2.97     |1.188      |0.0188        |\n",
      "|Best Sweet-Potato Cookies                                   |en:united-states|en:sugary-snacks,en:biscuits-and-cakes    |c             |388             |10.29             |50                |17.65      |1.5       |2.94         |0.3675   |0.147      |0             |\n",
      "|Best Ginger Snap Cookies                                    |en:united-states|en:sugary-snacks,en:biscuits-and-cakes    |c             |388             |10.29             |50                |17.65      |1.5       |2.94         |0.3675   |0.147      |0             |\n",
      "|Potato chips                                                |en:united-states|en:salty-snacks,en:appetizers             |unknown       |536             |3.57              |57.14             |0          |3.6       |7.14         |0.9375   |0.375      |0.0214        |\n",
      "|White Chocolate                                             |en:united-states|en:sugary-snacks,en:chocolate-products    |e             |575             |25                |50                |50         |0         |7.5          |0.25     |0.1        |0.003         |\n",
      "|The Madelaine Chocolate Company, Solid Milk Chocolate Cigars|en:united-states|en:sugary-snacks,en:sweets                |unknown       |535             |20.93             |58.14             |55.81      |2.3       |6.98         |0.2025   |0.081      |0.0028        |\n",
      "|The Madelaine Chocolate Company, Solid Milk Chocolate       |en:united-states|en:sugary-snacks,en:sweets                |unknown       |550             |20                |57.5              |55         |2.5       |7.5          |0.1875   |0.075      |0.003         |\n",
      "|The madelaine chocolate company, solid milk chocolate       |en:united-states|en:sugary-snacks,en:sweets                |unknown       |556             |19.44             |58.33             |55.56      |2.8       |8.33         |0.2075   |0.083      |0             |\n",
      "|Solid milk chocolate                                        |en:united-states|en:sugary-snacks,en:sweets                |unknown       |553             |21.05             |57.89             |55.26      |2.6       |7.89         |0.1975   |0.079      |0.0032        |\n",
      "|Fresh spinach                                               |en:united-states|en:fruits-and-vegetables                  |unknown       |24              |0                 |3.53              |0          |2.4       |2.35         |0.19     |0.076      |0.0282        |\n",
      "|Fresh Spinach                                               |en:united-states|en:fruits-and-vegetables                  |unknown       |24              |0                 |3.53              |0          |2.4       |2.35         |0.19     |0.076      |0.0282        |\n",
      "|Brussels sprouts                                            |en:united-states|en:fruits-and-vegetables                  |unknown       |48              |0                 |7.14              |2.38       |3.6       |2.38         |0.075    |0.03       |0.0857        |\n",
      "|Microwavable Brussels Sprouts                               |en:united-states|en:fruits-and-vegetables                  |unknown       |47.62           |0                 |7.14              |2.38       |3.6       |2.38         |0.0756   |0.03024    |0.0857        |\n",
      "|Quick cook sprout halves, brussels sprouts                  |en:united-states|en:fruits-and-vegetables                  |unknown       |48              |0                 |7.14              |2.38       |3.6       |2.38         |0.075    |0.03       |0.0857        |\n",
      "|Super shreds super foods, brussels sprouts shreds           |en:united-states|en:fruits-and-vegetables                  |unknown       |48              |0                 |7.14              |2.38       |3.6       |2.38         |0.075    |0.03       |0.0857        |\n",
      "|Baby brussels sprouts                                       |en:united-states|en:fruits-and-vegetables                  |unknown       |48              |0                 |7.14              |2.38       |3.6       |2.38         |0.075    |0.03       |0.0857        |\n",
      "+------------------------------------------------------------+----------------+------------------------------------------+--------------+----------------+------------------+------------------+-----------+----------+-------------+---------+-----------+--------------+\n",
      "only showing top 20 rows\n",
      "\n"
     ]
    },
    {
     "name": "stdout",
     "output_type": "stream",
     "text": [
      "Nombre de lignes : 46677\n"
     ]
    }
   ],
   "source": [
    "# Nous filtrons les lignes dont la valeur de la colonne \"nova_group\" vaut 1, 2 ou 3\n",
    "df_cleaned_4 = df_cleaned_3.filter(df_cleaned_3[\"nova_group\"] .isin([1, 2, 3]))\n",
    "\n",
    "# Nous supprimons ensuite la colonne \"nova_group\"\n",
    "df_cleaned_5 = df_cleaned_4.drop(\"nova_group\")\n",
    "\n",
    "# Nous affichons notre nouveau DataFrame\n",
    "df_cleaned_5.show(truncate=False)\n",
    "\n",
    "# Affichons le nombre de lignes de notre nouveau DataFrame\n",
    "print(f\"Nombre de lignes : {df_cleaned_5.count()}\")"
   ]
  },
  {
   "cell_type": "markdown",
   "metadata": {},
   "source": [
    "Nous supprimons maintenant toutes les lignes dont les valeurs de la colonne ecoscore_grade valent autre chose que A ou B.</br>\n",
    "L'impact environnemental de ces aliments est trop nocif.</br>\n",
    "Nous supprimons ensuite cette colonne."
   ]
  },
  {
   "cell_type": "code",
   "execution_count": 70,
   "metadata": {},
   "outputs": [
    {
     "name": "stdout",
     "output_type": "stream",
     "text": [
      "+---------------------------------------------+--------------------------+---------------------------------------------+----------------+------------------+------------------+-----------+----------+-------------+----------+-----------+--------------+\n",
      "|product_name                                 |countries_tags            |food_groups_tags                             |energy-kcal_100g|saturated-fat_100g|carbohydrates_100g|sugars_100g|fiber_100g|proteins_100g|salt_100g |sodium_100g|vitamin-c_100g|\n",
      "+---------------------------------------------+--------------------------+---------------------------------------------+----------------+------------------+------------------+-----------+----------+-------------+----------+-----------+--------------+\n",
      "|Creamed Honey                                |en:united-states          |en:sugary-snacks,en:sweets                   |286             |0                 |80.95             |76.19      |0         |0            |0         |0          |0             |\n",
      "|Creamed honey with cinnamon                  |en:united-states          |en:sugary-snacks,en:sweets                   |286             |0                 |80.95             |76.19      |0         |0            |0         |0          |0             |\n",
      "|Creamed honey with lemon                     |en:united-states          |en:sugary-snacks,en:sweets                   |286             |0                 |80.95             |76.19      |0         |0            |0         |0          |0             |\n",
      "|Creamed Honey With Hibiscus                  |en:united-states          |en:sugary-snacks,en:sweets                   |286             |0                 |80.95             |76.19      |0         |0            |0         |0          |0             |\n",
      "|Guiltless gourmet, yellow corn tortilla chips|en:united-states          |en:salty-snacks,en:appetizers                |429             |0                 |78.57             |0          |7.1       |7.14         |1.6075    |0.643      |0             |\n",
      "|Brown sugar                                  |en:united-states          |en:sugary-snacks,en:sweets                   |333             |0                 |100               |100        |0         |0            |0         |0          |0             |\n",
      "|Organic tomatoes, diced in tomato juice      |en:united-states          |en:fruits-and-vegetables,en:vegetables       |23              |0                 |4.62              |3.08       |0.8       |0.77         |0.3275    |0.131      |0.0018        |\n",
      "|Oven Toasted Old Fashioned Organic Oats      |en:france,en:united-states|en:fats-and-sauces,en:dressings-and-sauces   |375             |0                 |67.5              |2.5        |10        |12.5         |0         |0          |0             |\n",
      "|Lentils                                      |en:united-states          |en:cereals-and-potatoes,en:legumes           |65              |0                 |11.38             |0          |4.1       |4.07         |0.5825    |0.233      |0.0015        |\n",
      "|White eagle, balsamic vinegar of modena      |en:united-states          |en:fats-and-sauces,en:dressings-and-sauces   |87              |0                 |13.33             |13.33      |0         |0            |0         |0          |0             |\n",
      "|Balsamic Vinegar Of Modena                   |en:united-states          |en:fats-and-sauces,en:dressings-and-sauces   |100             |0                 |20                |20         |0         |0            |0         |0          |0             |\n",
      "|Balsamic vinegar of modena                   |en:united-states          |en:fats-and-sauces,en:dressings-and-sauces   |25              |3.33              |5                 |5          |0         |0            |0         |0          |0             |\n",
      "|Blue mountain country, butter beans          |en:united-states          |en:fruits-and-vegetables,en:vegetables       |115             |0                 |20                |0.77       |4.6       |6.92         |0.76      |0.304      |0.0014        |\n",
      "|Black Beans                                  |en:united-states          |en:cereals-and-potatoes,en:legumes           |70.4            |0                 |12.8              |1.28       |5.12      |4.48         |0.688     |0.275      |0.00384       |\n",
      "|Gourmet Pizza Sauce                          |en:united-states          |en:fats-and-sauces,en:dressings-and-sauces   |75              |0                 |13.33             |10         |3.3       |3.33         |0.75      |0.3        |0.015         |\n",
      "|Tomato Basil Marinara sauce                  |en:united-states          |en:fats-and-sauces,en:dressings-and-sauces   |38.9            |0                 |5.66              |2.12       |1.44      |0.708        |0.779     |0.312      |0.0127        |\n",
      "|Sour cream                                   |en:united-states          |en:milk-and-dairy-products,en:milk-and-yogurt|200             |11.67             |3.33              |3.33       |0         |3.33         |0.125     |0.05       |0             |\n",
      "|Kroger, restaurant style tortilla chips      |en:united-states          |en:salty-snacks,en:appetizers                |517             |3.45              |65.52             |0          |6.9       |6.9          |0.6475    |0.259      |0             |\n",
      "|Tomato + basil pasta sauce                   |en:united-states          |en:fats-and-sauces,en:dressings-and-sauces   |70.3125         |0                 |12.5              |7.8125     |2.3       |2.34375      |1.07421875|0.4296875  |0.0019        |\n",
      "|Half & half a blend of milk & cream          |en:united-states          |en:milk-and-dairy-products,en:milk-and-yogurt|117             |6.67              |3.33              |3.33       |0         |3.33         |0.125     |0.05       |0             |\n",
      "+---------------------------------------------+--------------------------+---------------------------------------------+----------------+------------------+------------------+-----------+----------+-------------+----------+-----------+--------------+\n",
      "only showing top 20 rows\n",
      "\n"
     ]
    },
    {
     "name": "stdout",
     "output_type": "stream",
     "text": [
      "Nombre de lignes : 6596\n"
     ]
    }
   ],
   "source": [
    "# Nous filtrons les lignes dont la valeur de la colonne \"ecoscore_grade\" vaut A ou B\n",
    "df_cleaned_6 = df_cleaned_5.filter(df_cleaned_5[\"ecoscore_grade\"] .isin([\"a\", \"b\"]))\n",
    "\n",
    "# Nous supprimons ensuite la colonne \"ecoscore_grade\"\n",
    "df_cleaned_7 = df_cleaned_6.drop(\"ecoscore_grade\")\n",
    "\n",
    "# Nous affichons notre nouveau DataFrame\n",
    "df_cleaned_7.show(truncate=False)\n",
    "\n",
    "# Affichons le nombre de lignes de notre nouveau DataFrame\n",
    "print(f\"Nombre de lignes : {df_cleaned_7.count()}\")"
   ]
  },
  {
   "cell_type": "markdown",
   "metadata": {},
   "source": [
    "Afin de ne garder que les ingrédients nécessaires à nos futurs régimes alimentaires, il nous faut lister les différentes catégories présentes dans la colonne food_groups_tags, puis retirer celles jugées inappropriées."
   ]
  },
  {
   "cell_type": "code",
   "execution_count": 71,
   "metadata": {},
   "outputs": [
    {
     "name": "stdout",
     "output_type": "stream",
     "text": [
      "+----------------------------------------------------+\n",
      "|food_groups_tags                                    |\n",
      "+----------------------------------------------------+\n",
      "|en:salty-snacks,en:appetizers                       |\n",
      "|en:sugary-snacks,en:biscuits-and-cakes              |\n",
      "|en:cereals-and-potatoes,en:bread                    |\n",
      "|en:cereals-and-potatoes,en:legumes                  |\n",
      "|en:composite-foods,en:one-dish-meals                |\n",
      "|en:fruits-and-vegetables,en:vegetables              |\n",
      "|en:fruits-and-vegetables,en:dried-fruits            |\n",
      "|en:salty-snacks,en:salty-and-fatty-products         |\n",
      "|en:fish-meat-eggs,en:meat,en:meat-other-than-poultry|\n",
      "|en:fats-and-sauces,en:dressings-and-sauces          |\n",
      "|en:beverages,en:unsweetened-beverages               |\n",
      "|en:cereals-and-potatoes,en:potatoes                 |\n",
      "|en:cereals-and-potatoes,en:cereals                  |\n",
      "|en:fruits-and-vegetables                            |\n",
      "|en:composite-foods,en:pizza-pies-and-quiches        |\n",
      "|en:milk-and-dairy-products,en:milk-and-yogurt       |\n",
      "|en:cereals-and-potatoes,en:breakfast-cereals        |\n",
      "|en:sugary-snacks,en:sweets                          |\n",
      "|en:fruits-and-vegetables,en:fruits                  |\n",
      "|en:beverages,en:sweetened-beverages                 |\n",
      "|en:beverages,en:plant-based-milk-substitutes        |\n",
      "|en:milk-and-dairy-products,en:ice-cream             |\n",
      "|en:fish-meat-eggs,en:fish-and-seafood,en:fatty-fish |\n",
      "|en:fruits-and-vegetables,en:soups                   |\n",
      "|en:cereals-and-potatoes                             |\n",
      "|en:milk-and-dairy-products,en:cheese                |\n",
      "|en:fish-meat-eggs,en:processed-meat                 |\n",
      "|en:sugary-snacks,en:pastries                        |\n",
      "|en:fats-and-sauces,en:fats                          |\n",
      "|en:beverages,en:fruit-juices                        |\n",
      "|en:milk-and-dairy-products,en:dairy-desserts        |\n",
      "|en:unknown                                          |\n",
      "|en:beverages,en:fruit-nectars                       |\n",
      "+----------------------------------------------------+\n",
      "\n"
     ]
    }
   ],
   "source": [
    "# Nous sélectionnons les différentes catégories\n",
    "categories_distinctes = df_cleaned_7.select(\"food_groups_tags\").distinct()\n",
    "\n",
    "# Nous affichons ces catégories\n",
    "categories_distinctes.show(100, truncate=False)"
   ]
  },
  {
   "cell_type": "markdown",
   "metadata": {},
   "source": [
    "Suite à ce résultat, nous supprimerons toutes les catégories contenant les mots :\n",
    "- unknown\n",
    "- fat\n",
    "- sugar\n",
    "- ice-cream\n",
    "- cake\n",
    "- pizza\n",
    "- salt\n",
    "\n",
    "Les aliments présents dans ces catégories ne sont en effet pas compatibles avec un régime vertueux."
   ]
  },
  {
   "cell_type": "code",
   "execution_count": 72,
   "metadata": {},
   "outputs": [
    {
     "name": "stdout",
     "output_type": "stream",
     "text": [
      "+----------------------------------------------------+\n",
      "|food_groups_tags                                    |\n",
      "+----------------------------------------------------+\n",
      "|en:cereals-and-potatoes,en:bread                    |\n",
      "|en:cereals-and-potatoes,en:legumes                  |\n",
      "|en:composite-foods,en:one-dish-meals                |\n",
      "|en:fruits-and-vegetables,en:vegetables              |\n",
      "|en:fruits-and-vegetables,en:dried-fruits            |\n",
      "|en:fish-meat-eggs,en:meat,en:meat-other-than-poultry|\n",
      "|en:beverages,en:unsweetened-beverages               |\n",
      "|en:cereals-and-potatoes,en:potatoes                 |\n",
      "|en:cereals-and-potatoes,en:cereals                  |\n",
      "|en:fruits-and-vegetables                            |\n",
      "|en:milk-and-dairy-products,en:milk-and-yogurt       |\n",
      "|en:cereals-and-potatoes,en:breakfast-cereals        |\n",
      "|en:fruits-and-vegetables,en:fruits                  |\n",
      "|en:beverages,en:sweetened-beverages                 |\n",
      "|en:beverages,en:plant-based-milk-substitutes        |\n",
      "|en:fruits-and-vegetables,en:soups                   |\n",
      "|en:cereals-and-potatoes                             |\n",
      "|en:milk-and-dairy-products,en:cheese                |\n",
      "|en:fish-meat-eggs,en:processed-meat                 |\n",
      "|en:beverages,en:fruit-juices                        |\n",
      "|en:milk-and-dairy-products,en:dairy-desserts        |\n",
      "|en:beverages,en:fruit-nectars                       |\n",
      "+----------------------------------------------------+\n",
      "\n",
      "Nombre de lignes : 4835\n"
     ]
    }
   ],
   "source": [
    "# Nous construisons une expression régulières pour les mots à exclure\n",
    "regex_pattern = \".*(unknown|fat|sugar|ice-cream|cake|pizza|salt).*\"\n",
    "\n",
    "# Sélection des catégories ne contenant pas les mots ci-dessus\n",
    "df_cleaned_8 = df_cleaned_7.filter(~col(\"food_groups_tags\").rlike(regex_pattern))\n",
    "\n",
    "# Nous sélectionnons les valeurs distinctes de notre colonne food_groups_tags\n",
    "categories_distinctes = df_cleaned_8.select(\"food_groups_tags\").distinct()\n",
    "\n",
    "# Nous affichons cette colonne\n",
    "categories_distinctes.show(100, truncate=False)\n",
    "\n",
    "# Affichons le nombre de lignes de notre nouveau DataFrame suite à ces suppressions\n",
    "print(f\"Nombre de lignes : {df_cleaned_8.count()}\")"
   ]
  },
  {
   "cell_type": "markdown",
   "metadata": {},
   "source": [
    "Nous supprimons maintenant les lignes entièrement dupliquées, c'est-à-dire où chaque valeur de colonne dans une ligne est une copie exacte d'une autre ligne, grâce à la fonction distinct(). Nous aurions également pu utiliser la fonction dropDuplicates()."
   ]
  },
  {
   "cell_type": "code",
   "execution_count": 73,
   "metadata": {},
   "outputs": [
    {
     "name": "stdout",
     "output_type": "stream",
     "text": [
      "Nombre de lignes : 4289\n"
     ]
    }
   ],
   "source": [
    "df_cleaned_9 = df_cleaned_8.distinct()\n",
    "\n",
    "print(f\"Nombre de lignes : {df_cleaned_9.count()}\")"
   ]
  },
  {
   "cell_type": "markdown",
   "metadata": {},
   "source": [
    "# Détection et suppression des valeurs aberrantes\n",
    "\n",
    "Enfin, pour terminer, il ne nous reste plus qu'à sélectionner les valeurs aberrantes de chacunes de nos colonnes et identifier pour chacunes d'entre elles s'il s'agit d'erreurs expérimentales, auquel cas nous les supprimerons.<br>"
   ]
  },
  {
   "cell_type": "markdown",
   "metadata": {},
   "source": [
    "## Variables numériques\n",
    "\n",
    "Concernant nos variables de type numérique, nous procéderons à cette détection à l'aide d'une méthode statistique basée sur les écarts interquartiles ou IDR.<br> \n",
    "Les valeurs seront considérées comme aberrantes si elles se trouvent en dehors de l'intervalle [Q1 - 1.5 * IQR, Q3 + 1.5 * IQR]."
   ]
  },
  {
   "cell_type": "markdown",
   "metadata": {},
   "source": [
    "Nous stockerons nos colonnes contenant des variables de type numérique dans une liste et nous bouclerons sur chacune de ces colonnes afin de garder dans notre DataFrame seulement les valeurs qui ne sont pas aberrantes."
   ]
  },
  {
   "cell_type": "code",
   "execution_count": 74,
   "metadata": {},
   "outputs": [
    {
     "name": "stdout",
     "output_type": "stream",
     "text": [
      "\n",
      "Nombre total de lignes : 4289\n"
     ]
    }
   ],
   "source": [
    "# Liste des colonnes pour lesquelles détecter les valeurs aberrantes\n",
    "colonnes_numériques = ['energy-kcal_100g', 'saturated-fat_100g', 'carbohydrates_100g', 'sugars_100g', 'fiber_100g', 'proteins_100g', 'salt_100g', 'sodium_100g', 'vitamin-c_100g']\n",
    "\n",
    "# Convertir chaque colonne spécifiée en float\n",
    "for colonne in colonnes_numériques:\n",
    "    df_cleaned_9 = df_cleaned_9.withColumn(colonne, col(colonne).cast(FloatType()))\n",
    "\n",
    "# Nous bouclons sur notre liste de colonnes afin de calculer notre plage de valeurs acceptables\n",
    "for colonne in colonnes_numériques:\n",
    "    # Calcul des quantiles pour la colonne courante\n",
    "    quantiles = df_cleaned_9.approxQuantile(colonne, [0.25, 0.75], 0.05)  # La précision de l'estimation\n",
    "    Q1, Q3 = quantiles\n",
    "    IQR = Q3 - Q1\n",
    "    borne_inf = Q1 - 1.5 * IQR\n",
    "    borne_sup = Q3 + 1.5 * IQR\n",
    "    \n",
    "    # Nous enregistrons nos colonnes sans valeurs aberrantes dans notre DataFrame\n",
    "    df_cleaned_10 = df_cleaned_9.filter((col(colonne) >= borne_inf) & (col(colonne) <= borne_sup))\n",
    "    \n",
    "# Nous affichons le nombre de ligne total de notre nouveau DataFrame\n",
    "print(f\"\\nNombre total de lignes : {df_cleaned_9.count()}\")"
   ]
  },
  {
   "cell_type": "markdown",
   "metadata": {},
   "source": [
    "\n",
    "## Variables catégoriques\n",
    "\n",
    "Concernant nos variables de type catégorique, nous procéderons à cette détection en utilisant une méthode basée sur l'analyse d'un type de format prédéfini à l'aide de regex. Ainsi, les catégories n'appartenant pas à ce type de format pré-établi, seront considérées comme des valeurs aberrantes, et nous devrons vérifier manuellement si elles repésentent ou non des erreurs expérimentales."
   ]
  },
  {
   "cell_type": "markdown",
   "metadata": {},
   "source": [
    "Nous effectuerons notre analyse sur les colonnes countries_tags et food_groups_tags.<br>\n",
    "Nous considérons comme des valeurs aberrantes, les catégories dont le format contient au moins un chiffre."
   ]
  },
  {
   "cell_type": "markdown",
   "metadata": {},
   "source": [
    "Colonne countries_tags :"
   ]
  },
  {
   "cell_type": "code",
   "execution_count": 75,
   "metadata": {},
   "outputs": [
    {
     "name": "stdout",
     "output_type": "stream",
     "text": [
      "+--------------+\n",
      "|countries_tags|\n",
      "+--------------+\n",
      "+--------------+\n",
      "\n"
     ]
    }
   ],
   "source": [
    "# Sélection des catégories contenant au moins un chiffre\n",
    "aberr_countries_tags = df_cleaned_10.filter(col(\"countries_tags\").rlike(\".*[0-9].*\")).select(\"countries_tags\").distinct()\n",
    "\n",
    "# Affichage de ces valeurs aberrantes\n",
    "aberr_countries_tags.show(truncate=False)"
   ]
  },
  {
   "cell_type": "markdown",
   "metadata": {},
   "source": [
    "En nous basant sur un format ne contenant aucuns chiffres, aucune valeur aberrante n'a été détectée pour notre colonne countries_tags."
   ]
  },
  {
   "cell_type": "markdown",
   "metadata": {},
   "source": [
    "Colonne food_groups_tags :"
   ]
  },
  {
   "cell_type": "code",
   "execution_count": 76,
   "metadata": {},
   "outputs": [
    {
     "name": "stdout",
     "output_type": "stream",
     "text": [
      "+----------------+\n",
      "|food_groups_tags|\n",
      "+----------------+\n",
      "+----------------+\n",
      "\n"
     ]
    }
   ],
   "source": [
    "# Sélection des catégories contenant au moins un chiffre\n",
    "aberr_food_groups_tags = df_cleaned_10.filter(col(\"food_groups_tags\").rlike(\".*[0-9].*\")).select(\"food_groups_tags\").distinct()\n",
    "\n",
    "# Affichage de ces valeurs aberrantes\n",
    "aberr_food_groups_tags.show(truncate=False)"
   ]
  },
  {
   "cell_type": "markdown",
   "metadata": {},
   "source": [
    "En nous basant sur un format ne contenant aucuns chiffres, aucune valeur aberrante n'a été détectée pour notre colonne food_groups_tags."
   ]
  },
  {
   "cell_type": "markdown",
   "metadata": {},
   "source": [
    "_ _ _"
   ]
  },
  {
   "cell_type": "markdown",
   "metadata": {},
   "source": [
    "# Vérification et exportation du DataFrame\n",
    "\n",
    "## DataFrame finalisé"
   ]
  },
  {
   "cell_type": "markdown",
   "metadata": {},
   "source": [
    "Afin d'obtenir une vue synthétique des transformations effectuées sur notre Dataframe initial, nous présenterons succinctement les principales caractéristiques de notre jeu de données avant, puis après modification."
   ]
  },
  {
   "cell_type": "markdown",
   "metadata": {},
   "source": [
    "Nombre de colonnes avant traitement : 206"
   ]
  },
  {
   "cell_type": "code",
   "execution_count": 77,
   "metadata": {},
   "outputs": [
    {
     "name": "stdout",
     "output_type": "stream",
     "text": [
      "\n",
      "Nombre de colonnes actuel : 12\n",
      "\n"
     ]
    }
   ],
   "source": [
    "# Obtenir le nombre de colonnes actuel\n",
    "\n",
    "nb_colonnes = len(df_cleaned_10.columns)\n",
    "\n",
    "print(f\"\\nNombre de colonnes actuel : {nb_colonnes}\\n\")"
   ]
  },
  {
   "cell_type": "markdown",
   "metadata": {},
   "source": [
    "Nombre de lignes avant traitement : 3083356"
   ]
  },
  {
   "cell_type": "code",
   "execution_count": 78,
   "metadata": {},
   "outputs": [
    {
     "name": "stdout",
     "output_type": "stream",
     "text": [
      "Nombre de lignes actuel : 3732\n"
     ]
    }
   ],
   "source": [
    "# Affichons le nombre de lignes de notre DataFrame final\n",
    "print(f\"Nombre de lignes actuel : {df_cleaned_10.count()}\")"
   ]
  },
  {
   "cell_type": "markdown",
   "metadata": {},
   "source": [
    "Affichons les 20 premières lignes de notre DataFrame :"
   ]
  },
  {
   "cell_type": "code",
   "execution_count": 79,
   "metadata": {},
   "outputs": [
    {
     "name": "stdout",
     "output_type": "stream",
     "text": [
      "+----------------------------------------------------+----------------+---------------------------------------------+----------------+------------------+------------------+-----------+----------+-------------+---------+-----------+--------------+\n",
      "|product_name                                        |countries_tags  |food_groups_tags                             |energy-kcal_100g|saturated-fat_100g|carbohydrates_100g|sugars_100g|fiber_100g|proteins_100g|salt_100g|sodium_100g|vitamin-c_100g|\n",
      "+----------------------------------------------------+----------------+---------------------------------------------+----------------+------------------+------------------+-----------+----------+-------------+---------+-----------+--------------+\n",
      "|Great Northern Beans                                |en:united-states|en:cereals-and-potatoes,en:legumes           |69.0            |0.0               |12.31             |1.54       |4.6       |5.38         |0.7875   |0.315      |0.0           |\n",
      "|100% Natural Raisins                                |en:united-states|en:fruits-and-vegetables,en:dried-fruits     |325.0           |0.0               |77.5              |72.5       |5.0       |2.5          |0.0635   |0.0254     |0.0           |\n",
      "|Big win, california seedless raisins                |en:united-states|en:fruits-and-vegetables,en:dried-fruits     |300.0           |0.0               |80.0              |60.0       |2.5       |2.5          |0.0      |0.0        |0.003         |\n",
      "|Sliced Potatoes                                     |en:united-states|en:cereals-and-potatoes,en:potatoes          |42.0            |0.0               |9.09              |0.61       |1.2       |0.61         |0.6375   |0.255      |0.0073        |\n",
      "|White Potatoes Diced                                |en:united-states|en:cereals-and-potatoes,en:potatoes          |36.0            |0.0               |7.88              |0.0        |0.6       |0.61         |0.5      |0.2        |0.0036        |\n",
      "|Richin, bamboo shoots                               |en:united-states|en:composite-foods,en:one-dish-meals         |22.0            |0.87              |0.0               |0.0        |1.7       |0.87         |0.0325   |0.013      |0.0           |\n",
      "|Refried beans                                       |en:united-states|en:cereals-and-potatoes,en:legumes           |100.0           |0.0               |18.46             |0.77       |4.6       |6.92         |0.8275   |0.331      |0.0018        |\n",
      "|S&w, premium petite-cut tomatoes diced in rich juice|en:united-states|en:fruits-and-vegetables,en:vegetables       |20.0            |0.0               |4.76              |3.17       |1.6       |0.79         |0.495    |0.198      |0.0071        |\n",
      "|Peeled Diced Tomatoes                               |en:united-states|en:fruits-and-vegetables,en:vegetables       |21.0            |0.0               |4.13              |2.48       |0.8       |0.83         |0.3725   |0.149      |0.0074        |\n",
      "|Dark red kidney beans                               |en:united-states|en:cereals-and-potatoes,en:legumes           |84.62           |0.0               |15.38             |0.77       |6.15      |6.15         |0.2442   |0.09768    |9.0E-4        |\n",
      "|Roundy's, every thing sliced bagels                 |en:united-states|en:cereals-and-potatoes,en:bread             |294.0           |0.0               |58.82             |2.35       |2.4       |10.59        |1.0875   |0.435      |0.0           |\n",
      "|Spartan, red beans                                  |en:united-states|en:cereals-and-potatoes,en:legumes           |69.0            |0.0               |14.62             |0.77       |3.8       |4.62         |0.77     |0.308      |0.0           |\n",
      "|Organic Black Beans                                 |en:united-states|en:cereals-and-potatoes,en:legumes           |85.0            |0.0               |15.38             |0.77       |3.8       |5.38         |0.25     |0.1        |0.0           |\n",
      "|Asparagus Spears                                    |en:united-states|en:fruits-and-vegetables,en:vegetables       |25.3            |0.0               |4.81              |3.2        |1.27      |3.2          |0.0      |0.0        |0.0144        |\n",
      "|Atmns Gold Grn Free Gran Tstd Coconut Almond        |en:united-states|en:cereals-and-potatoes,en:breakfast-cereals |592.5926        |12.962963         |37.037037         |18.518518  |10.0      |14.814815    |0.0      |0.0        |0.0           |\n",
      "|French-style cultured cream, french-style           |en:united-states|en:milk-and-dairy-products,en:milk-and-yogurt|393.0           |25.0              |7.14              |3.57       |0.0       |0.0          |0.045    |0.018      |0.0           |\n",
      "|Cut Asparagus Spears                                |en:united-states|en:fruits-and-vegetables,en:vegetables       |17.0            |0.0               |2.5               |2.5        |0.8       |1.67         |0.75     |0.3        |0.0125        |\n",
      "|Spartan, diced tomatoes                             |en:united-states|en:fruits-and-vegetables,en:vegetables       |21.0            |0.0               |4.13              |2.48       |0.8       |0.83         |0.3725   |0.149      |0.0074        |\n",
      "|Raisins                                             |en:united-states|en:fruits-and-vegetables,en:dried-fruits     |325.0           |0.0               |77.5              |72.5       |5.0       |2.5          |0.0635   |0.0254     |0.0           |\n",
      "|Large Fava Beans                                    |en:united-states|en:cereals-and-potatoes,en:legumes           |115.0           |0.0               |19.23             |2.31       |7.7       |7.69         |1.1925   |0.477      |0.0           |\n",
      "+----------------------------------------------------+----------------+---------------------------------------------+----------------+------------------+------------------+-----------+----------+-------------+---------+-----------+--------------+\n",
      "only showing top 20 rows\n",
      "\n"
     ]
    }
   ],
   "source": [
    "# Nous affichons notre DataFrame finalisé\n",
    "df_cleaned_10.show(20,truncate=False)"
   ]
  },
  {
   "cell_type": "markdown",
   "metadata": {},
   "source": [
    "Ainsi, comme nous pouvons le constater, l'opération de qualité de données effectuée sur notre jeu de données initial a considérablement réduit cette masse de données brute afin de ne garder que celles utilent pour nos besoins futurs."
   ]
  }
 ],
 "metadata": {
  "kernelspec": {
   "display_name": "Python 3",
   "language": "python",
   "name": "python3"
  },
  "language_info": {
   "codemirror_mode": {
    "name": "ipython",
    "version": 3
   },
   "file_extension": ".py",
   "mimetype": "text/x-python",
   "name": "python",
   "nbconvert_exporter": "python",
   "pygments_lexer": "ipython3",
   "version": "3.11.8"
  }
 },
 "nbformat": 4,
 "nbformat_minor": 2
}
